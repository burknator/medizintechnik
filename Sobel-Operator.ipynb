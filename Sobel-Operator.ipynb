{
 "cells": [
  {
   "cell_type": "code",
   "execution_count": 1,
   "metadata": {},
   "outputs": [],
   "source": [
    "import numpy as np\n",
    "import matplotlib.pyplot as plt\n",
    "from matplotlib.colors import NoNorm\n",
    "from visual_convolution import stepped_convolution, visual_convolution, show_matrix"
   ]
  },
  {
   "cell_type": "code",
   "execution_count": 2,
   "metadata": {},
   "outputs": [
    {
     "data": {
      "text/latex": [
       "\\[\\scriptstyle base =  \\def\\g{\\color{lightgray}}\\left(\\begin{array}{rrrrrrrrrr}5 & 2 & 6 & 2 & 3 & 2 & 1 & 2 & 3 & 1\\\\1 & 3 & 6 & 7 & 9 & 2 & 4 & 4 & 7 & 1\\\\1 & 5 & 8 & 8 & 10 & 17 & 21 & 19 & 9 & 4\\\\4 & 18 & 34 & 56 & 17 & 25 & 38 & 17 & 7 & 2\\\\1 & 14 & 22 & 43 & 68 & 91 & 62 & 23 & 16 & 7\\\\6 & 12 & 21 & 21 & 39 & 87 & 76 & 34 & 4 & 2\\\\9 & 24 & 54 & 73 & 88 & 95 & 69 & 16 & 12 & 5\\\\3 & 5 & 6 & 40 & 34 & 42 & 6 & 4 & 2 & 5\\\\4 & 9 & 16 & 14 & 32 & 51 & 13 & 6 & 6 & 2\\\\4 & 2 & 5 & 3 & 3 & 3 & 5 & 3 & 3 & 3\\end{array}\\right)\\]"
      ],
      "text/plain": [
       "<IPython.core.display.Latex object>"
      ]
     },
     "metadata": {},
     "output_type": "display_data"
    }
   ],
   "source": [
    "base = \"\"\"\n",
    "5 2 6 2 3 2 1 2 3 1\n",
    "1 3 6 7 9 2 4 4 7 1\n",
    "1 5 8 8 10 17 21 19 9 4\n",
    "4 18 34 56 17 25 38 17 7 2\n",
    "1 14 22 43 68 91 62 23 16 7\n",
    "6 12 21 21 39 87 76 34 4 2\n",
    "9 24 54 73 88 95 69 16 12 5\n",
    "3 5 6 40 34 42 6 4 2 5\n",
    "4 9 16 14 32 51 13 6 6 2\n",
    "4 2 5 3 3 3 5 3 3 3\n",
    "\"\"\"\n",
    "\n",
    "# Convert into an array of ints\n",
    "base = np.array([[float(number) for number in line.split(\" \")] for line in base.split(\"\\n\") if line != \"\"])\n",
    "\n",
    "show_matrix(base, title='base')"
   ]
  },
  {
   "cell_type": "code",
   "execution_count": 3,
   "metadata": {},
   "outputs": [],
   "source": [
    "def show(image):\n",
    "    # Helper-method to show an image\n",
    "    return plt.imshow(image.astype(int), cmap=\"gray\", norm=NoNorm())"
   ]
  },
  {
   "cell_type": "markdown",
   "metadata": {},
   "source": [
    "### Implementierung des Faltungsoperators, mit Zero-Padding"
   ]
  },
  {
   "cell_type": "code",
   "execution_count": 4,
   "metadata": {},
   "outputs": [],
   "source": [
    "def convolve(image, kernel):\n",
    "    # Zero-Padding\n",
    "    _image = np.pad(image, ((1, 1), (1, 1)), 'constant')\n",
    "\n",
    "    output_image = np.copy(image)\n",
    "    for (x, y), value in np.ndenumerate(image):\n",
    "        # Cut out the part of the image which we consider for this iteration...\n",
    "        window = _image[x:x+3, y:y+3] # image[x-1:x+2, y-1:y+2] but x=x+1, y=y+1 because of pad\n",
    "        \n",
    "        # ... and multiply it element-wise with the kernel, and sum up everything afterwards.\n",
    "        output_image[x, y] = np.sum(np.multiply(window, kernel))\n",
    "\n",
    "    return output_image"
   ]
  },
  {
   "cell_type": "markdown",
   "metadata": {},
   "source": [
    "### Implementierung der Grauwertspeizung\n",
    "(Quelle: http://home.in.tum.de/~perzylo/Proseminar/Punktoperatoren.pdf)"
   ]
  },
  {
   "cell_type": "code",
   "execution_count": 5,
   "metadata": {
    "scrolled": true
   },
   "outputs": [],
   "source": [
    "def spread_gray_value(image, g_1=None, g_2=None, G=255):\n",
    "    if g_1 is None:\n",
    "        g_1 = np.min(image)\n",
    "    if g_2 is None:\n",
    "        g_2 = np.max(image)\n",
    "\n",
    "    output = np.copy(image)\n",
    "    for (x, y), value in np.ndenumerate(image):\n",
    "        if value < g_1:\n",
    "            output[x, y] = 0\n",
    "        elif value > g_2:\n",
    "            output[x, y] = G - 1\n",
    "        else:\n",
    "            output[x, y] = (G - 1)*(value - g_1)/(g_2 - g_1)\n",
    "    return output"
   ]
  },
  {
   "cell_type": "code",
   "execution_count": 6,
   "metadata": {},
   "outputs": [],
   "source": [
    "base_spread = spread_gray_value(base)"
   ]
  },
  {
   "cell_type": "markdown",
   "metadata": {},
   "source": [
    "# 1) Mittelwertfilter"
   ]
  },
  {
   "cell_type": "code",
   "execution_count": 7,
   "metadata": {},
   "outputs": [
    {
     "data": {
      "text/latex": [
       "\\[\\scriptstyle \\def\\g{\\color{lightgray}}\\left(\\begin{array}{rrrrrrrrrrrr}0\\cdot 0.11 & 0\\cdot 0.11 & 0\\cdot 0.11 & \\g{0} & \\g{0} & \\g{0} & \\g{0} & \\g{0} & \\g{0} & \\g{0} & \\g{0} & \\g{0}\\\\0\\cdot 0.11 & 5\\cdot 0.11 & 2\\cdot 0.11 & \\g{6} & \\g{2} & \\g{3} & \\g{2} & \\g{1} & \\g{2} & \\g{3} & \\g{1} & \\g{0}\\\\0\\cdot 0.11 & 1\\cdot 0.11 & 3\\cdot 0.11 & \\g{6} & \\g{7} & \\g{9} & \\g{2} & \\g{4} & \\g{4} & \\g{7} & \\g{1} & \\g{0}\\\\\\g{0} & \\g{1} & \\g{5} & \\g{8} & \\g{8} & \\g{10} & \\g{17} & \\g{21} & \\g{19} & \\g{9} & \\g{4} & \\g{0}\\\\\\g{0} & \\g{4} & \\g{18} & \\g{34} & \\g{56} & \\g{17} & \\g{25} & \\g{38} & \\g{17} & \\g{7} & \\g{2} & \\g{0}\\\\\\g{0} & \\g{1} & \\g{14} & \\g{22} & \\g{43} & \\g{68} & \\g{91} & \\g{62} & \\g{23} & \\g{16} & \\g{7} & \\g{0}\\\\\\g{0} & \\g{6} & \\g{12} & \\g{21} & \\g{21} & \\g{39} & \\g{87} & \\g{76} & \\g{34} & \\g{4} & \\g{2} & \\g{0}\\\\\\g{0} & \\g{9} & \\g{24} & \\g{54} & \\g{73} & \\g{88} & \\g{95} & \\g{69} & \\g{16} & \\g{12} & \\g{5} & \\g{0}\\\\\\g{0} & \\g{3} & \\g{5} & \\g{6} & \\g{40} & \\g{34} & \\g{42} & \\g{6} & \\g{4} & \\g{2} & \\g{5} & \\g{0}\\\\\\g{0} & \\g{4} & \\g{9} & \\g{16} & \\g{14} & \\g{32} & \\g{51} & \\g{13} & \\g{6} & \\g{6} & \\g{2} & \\g{0}\\\\\\g{0} & \\g{4} & \\g{2} & \\g{5} & \\g{3} & \\g{3} & \\g{3} & \\g{5} & \\g{3} & \\g{3} & \\g{3} & \\g{0}\\\\\\g{0} & \\g{0} & \\g{0} & \\g{0} & \\g{0} & \\g{0} & \\g{0} & \\g{0} & \\g{0} & \\g{0} & \\g{0} & \\g{0}\\end{array}\\right)=\\left(\\begin{array}{rrrrrrrrrrrr}1 & \\g{2} & \\g{6} & \\g{2} & \\g{3} & \\g{2} & \\g{1} & \\g{2} & \\g{3} & \\g{1}\\\\\\g{1} & \\g{3} & \\g{6} & \\g{7} & \\g{9} & \\g{2} & \\g{4} & \\g{4} & \\g{7} & \\g{1}\\\\\\g{1} & \\g{5} & \\g{8} & \\g{8} & \\g{10} & \\g{17} & \\g{21} & \\g{19} & \\g{9} & \\g{4}\\\\\\g{4} & \\g{18} & \\g{34} & \\g{56} & \\g{17} & \\g{25} & \\g{38} & \\g{17} & \\g{7} & \\g{2}\\\\\\g{1} & \\g{14} & \\g{22} & \\g{43} & \\g{68} & \\g{91} & \\g{62} & \\g{23} & \\g{16} & \\g{7}\\\\\\g{6} & \\g{12} & \\g{21} & \\g{21} & \\g{39} & \\g{87} & \\g{76} & \\g{34} & \\g{4} & \\g{2}\\\\\\g{9} & \\g{24} & \\g{54} & \\g{73} & \\g{88} & \\g{95} & \\g{69} & \\g{16} & \\g{12} & \\g{5}\\\\\\g{3} & \\g{5} & \\g{6} & \\g{40} & \\g{34} & \\g{42} & \\g{6} & \\g{4} & \\g{2} & \\g{5}\\\\\\g{4} & \\g{9} & \\g{16} & \\g{14} & \\g{32} & \\g{51} & \\g{13} & \\g{6} & \\g{6} & \\g{2}\\\\\\g{4} & \\g{2} & \\g{5} & \\g{3} & \\g{3} & \\g{3} & \\g{5} & \\g{3} & \\g{3} & \\g{3}\\end{array}\\right)\\]"
      ],
      "text/plain": [
       "<IPython.core.display.Latex object>"
      ]
     },
     "metadata": {},
     "output_type": "display_data"
    },
    {
     "data": {
      "text/latex": [
       "\\[\\scriptstyle \\def\\g{\\color{lightgray}}\\left(\\begin{array}{rrrrrrrrrrrr}\\g{0} & 0\\cdot 0.11 & 0\\cdot 0.11 & 0\\cdot 0.11 & \\g{0} & \\g{0} & \\g{0} & \\g{0} & \\g{0} & \\g{0} & \\g{0} & \\g{0}\\\\\\g{0} & 5\\cdot 0.11 & 2\\cdot 0.11 & 6\\cdot 0.11 & \\g{2} & \\g{3} & \\g{2} & \\g{1} & \\g{2} & \\g{3} & \\g{1} & \\g{0}\\\\\\g{0} & 1\\cdot 0.11 & 3\\cdot 0.11 & 6\\cdot 0.11 & \\g{7} & \\g{9} & \\g{2} & \\g{4} & \\g{4} & \\g{7} & \\g{1} & \\g{0}\\\\\\g{0} & \\g{1} & \\g{5} & \\g{8} & \\g{8} & \\g{10} & \\g{17} & \\g{21} & \\g{19} & \\g{9} & \\g{4} & \\g{0}\\\\\\g{0} & \\g{4} & \\g{18} & \\g{34} & \\g{56} & \\g{17} & \\g{25} & \\g{38} & \\g{17} & \\g{7} & \\g{2} & \\g{0}\\\\\\g{0} & \\g{1} & \\g{14} & \\g{22} & \\g{43} & \\g{68} & \\g{91} & \\g{62} & \\g{23} & \\g{16} & \\g{7} & \\g{0}\\\\\\g{0} & \\g{6} & \\g{12} & \\g{21} & \\g{21} & \\g{39} & \\g{87} & \\g{76} & \\g{34} & \\g{4} & \\g{2} & \\g{0}\\\\\\g{0} & \\g{9} & \\g{24} & \\g{54} & \\g{73} & \\g{88} & \\g{95} & \\g{69} & \\g{16} & \\g{12} & \\g{5} & \\g{0}\\\\\\g{0} & \\g{3} & \\g{5} & \\g{6} & \\g{40} & \\g{34} & \\g{42} & \\g{6} & \\g{4} & \\g{2} & \\g{5} & \\g{0}\\\\\\g{0} & \\g{4} & \\g{9} & \\g{16} & \\g{14} & \\g{32} & \\g{51} & \\g{13} & \\g{6} & \\g{6} & \\g{2} & \\g{0}\\\\\\g{0} & \\g{4} & \\g{2} & \\g{5} & \\g{3} & \\g{3} & \\g{3} & \\g{5} & \\g{3} & \\g{3} & \\g{3} & \\g{0}\\\\\\g{0} & \\g{0} & \\g{0} & \\g{0} & \\g{0} & \\g{0} & \\g{0} & \\g{0} & \\g{0} & \\g{0} & \\g{0} & \\g{0}\\end{array}\\right)=\\left(\\begin{array}{rrrrrrrrrrrr}\\g{1} & 3 & \\g{6} & \\g{2} & \\g{3} & \\g{2} & \\g{1} & \\g{2} & \\g{3} & \\g{1}\\\\\\g{1} & \\g{3} & \\g{6} & \\g{7} & \\g{9} & \\g{2} & \\g{4} & \\g{4} & \\g{7} & \\g{1}\\\\\\g{1} & \\g{5} & \\g{8} & \\g{8} & \\g{10} & \\g{17} & \\g{21} & \\g{19} & \\g{9} & \\g{4}\\\\\\g{4} & \\g{18} & \\g{34} & \\g{56} & \\g{17} & \\g{25} & \\g{38} & \\g{17} & \\g{7} & \\g{2}\\\\\\g{1} & \\g{14} & \\g{22} & \\g{43} & \\g{68} & \\g{91} & \\g{62} & \\g{23} & \\g{16} & \\g{7}\\\\\\g{6} & \\g{12} & \\g{21} & \\g{21} & \\g{39} & \\g{87} & \\g{76} & \\g{34} & \\g{4} & \\g{2}\\\\\\g{9} & \\g{24} & \\g{54} & \\g{73} & \\g{88} & \\g{95} & \\g{69} & \\g{16} & \\g{12} & \\g{5}\\\\\\g{3} & \\g{5} & \\g{6} & \\g{40} & \\g{34} & \\g{42} & \\g{6} & \\g{4} & \\g{2} & \\g{5}\\\\\\g{4} & \\g{9} & \\g{16} & \\g{14} & \\g{32} & \\g{51} & \\g{13} & \\g{6} & \\g{6} & \\g{2}\\\\\\g{4} & \\g{2} & \\g{5} & \\g{3} & \\g{3} & \\g{3} & \\g{5} & \\g{3} & \\g{3} & \\g{3}\\end{array}\\right)\\]"
      ],
      "text/plain": [
       "<IPython.core.display.Latex object>"
      ]
     },
     "metadata": {},
     "output_type": "display_data"
    },
    {
     "data": {
      "text/latex": [
       "\\[\\scriptstyle \\def\\g{\\color{lightgray}}\\left(\\begin{array}{rrrrrrrrrrrr}\\g{0} & \\g{0} & 0\\cdot 0.11 & 0\\cdot 0.11 & 0\\cdot 0.11 & \\g{0} & \\g{0} & \\g{0} & \\g{0} & \\g{0} & \\g{0} & \\g{0}\\\\\\g{0} & \\g{5} & 2\\cdot 0.11 & 6\\cdot 0.11 & 2\\cdot 0.11 & \\g{3} & \\g{2} & \\g{1} & \\g{2} & \\g{3} & \\g{1} & \\g{0}\\\\\\g{0} & \\g{1} & 3\\cdot 0.11 & 6\\cdot 0.11 & 7\\cdot 0.11 & \\g{9} & \\g{2} & \\g{4} & \\g{4} & \\g{7} & \\g{1} & \\g{0}\\\\\\g{0} & \\g{1} & \\g{5} & \\g{8} & \\g{8} & \\g{10} & \\g{17} & \\g{21} & \\g{19} & \\g{9} & \\g{4} & \\g{0}\\\\\\g{0} & \\g{4} & \\g{18} & \\g{34} & \\g{56} & \\g{17} & \\g{25} & \\g{38} & \\g{17} & \\g{7} & \\g{2} & \\g{0}\\\\\\g{0} & \\g{1} & \\g{14} & \\g{22} & \\g{43} & \\g{68} & \\g{91} & \\g{62} & \\g{23} & \\g{16} & \\g{7} & \\g{0}\\\\\\g{0} & \\g{6} & \\g{12} & \\g{21} & \\g{21} & \\g{39} & \\g{87} & \\g{76} & \\g{34} & \\g{4} & \\g{2} & \\g{0}\\\\\\g{0} & \\g{9} & \\g{24} & \\g{54} & \\g{73} & \\g{88} & \\g{95} & \\g{69} & \\g{16} & \\g{12} & \\g{5} & \\g{0}\\\\\\g{0} & \\g{3} & \\g{5} & \\g{6} & \\g{40} & \\g{34} & \\g{42} & \\g{6} & \\g{4} & \\g{2} & \\g{5} & \\g{0}\\\\\\g{0} & \\g{4} & \\g{9} & \\g{16} & \\g{14} & \\g{32} & \\g{51} & \\g{13} & \\g{6} & \\g{6} & \\g{2} & \\g{0}\\\\\\g{0} & \\g{4} & \\g{2} & \\g{5} & \\g{3} & \\g{3} & \\g{3} & \\g{5} & \\g{3} & \\g{3} & \\g{3} & \\g{0}\\\\\\g{0} & \\g{0} & \\g{0} & \\g{0} & \\g{0} & \\g{0} & \\g{0} & \\g{0} & \\g{0} & \\g{0} & \\g{0} & \\g{0}\\end{array}\\right)=\\left(\\begin{array}{rrrrrrrrrrrr}\\g{1} & \\g{3} & 3 & \\g{2} & \\g{3} & \\g{2} & \\g{1} & \\g{2} & \\g{3} & \\g{1}\\\\\\g{1} & \\g{3} & \\g{6} & \\g{7} & \\g{9} & \\g{2} & \\g{4} & \\g{4} & \\g{7} & \\g{1}\\\\\\g{1} & \\g{5} & \\g{8} & \\g{8} & \\g{10} & \\g{17} & \\g{21} & \\g{19} & \\g{9} & \\g{4}\\\\\\g{4} & \\g{18} & \\g{34} & \\g{56} & \\g{17} & \\g{25} & \\g{38} & \\g{17} & \\g{7} & \\g{2}\\\\\\g{1} & \\g{14} & \\g{22} & \\g{43} & \\g{68} & \\g{91} & \\g{62} & \\g{23} & \\g{16} & \\g{7}\\\\\\g{6} & \\g{12} & \\g{21} & \\g{21} & \\g{39} & \\g{87} & \\g{76} & \\g{34} & \\g{4} & \\g{2}\\\\\\g{9} & \\g{24} & \\g{54} & \\g{73} & \\g{88} & \\g{95} & \\g{69} & \\g{16} & \\g{12} & \\g{5}\\\\\\g{3} & \\g{5} & \\g{6} & \\g{40} & \\g{34} & \\g{42} & \\g{6} & \\g{4} & \\g{2} & \\g{5}\\\\\\g{4} & \\g{9} & \\g{16} & \\g{14} & \\g{32} & \\g{51} & \\g{13} & \\g{6} & \\g{6} & \\g{2}\\\\\\g{4} & \\g{2} & \\g{5} & \\g{3} & \\g{3} & \\g{3} & \\g{5} & \\g{3} & \\g{3} & \\g{3}\\end{array}\\right)\\]"
      ],
      "text/plain": [
       "<IPython.core.display.Latex object>"
      ]
     },
     "metadata": {},
     "output_type": "display_data"
    },
    {
     "data": {
      "text/latex": [
       "\\[\\scriptstyle base\\_averaged =  \\def\\g{\\color{lightgray}}\\left(\\begin{array}{rrrrrrrrrr}1 & 3 & 3 & 4 & 3 & 2 & 2 & 2 & 2 & 1\\\\2 & 4 & 5 & 7 & 7 & 8 & 8 & 8 & 6 & 3\\\\4 & 9 & 16 & 17 & 17 & 16 & 16 & 14 & 8 & 3\\\\5 & 12 & 23 & 30 & 37 & 39 & 35 & 24 & 12 & 5\\\\6 & 15 & 27 & 36 & 50 & 56 & 50 & 31 & 12 & 4\\\\7 & 18 & 32 & 48 & 67 & 75 & 61 & 35 & 13 & 5\\\\7 & 16 & 28 & 42 & 58 & 60 & 48 & 25 & 9 & 3\\\\6 & 14 & 27 & 40 & 52 & 48 & 34 & 15 & 6 & 4\\\\3 & 6 & 11 & 17 & 25 & 21 & 15 & 5 & 4 & 2\\\\2 & 4 & 5 & 8 & 12 & 12 & 9 & 4 & 3 & 2\\end{array}\\right)\\]"
      ],
      "text/plain": [
       "<IPython.core.display.Latex object>"
      ]
     },
     "metadata": {},
     "output_type": "display_data"
    },
    {
     "data": {
      "text/latex": [
       "\\[\\scriptstyle base\\_averaged\\_spread =  \\def\\g{\\color{lightgray}}\\left(\\begin{array}{rrrrrrrrrr}0 & 5 & 6 & 8 & 5 & 4 & 2 & 4 & 3 & 0\\\\2 & 10 & 14 & 18 & 19 & 22 & 23 & 23 & 15 & 5\\\\8 & 26 & 51 & 55 & 54 & 50 & 52 & 44 & 23 & 7\\\\12 & 37 & 75 & 98 & 124 & 129 & 116 & 77 & 36 & 13\\\\17 & 46 & 88 & 119 & 167 & 188 & 169 & 102 & 39 & 10\\\\21 & 58 & 104 & 160 & 227 & 254 & 207 & 115 & 41 & 13\\\\18 & 49 & 94 & 140 & 194 & 201 & 160 & 81 & 28 & 7\\\\16 & 46 & 88 & 132 & 175 & 160 & 111 & 47 & 18 & 8\\\\6 & 16 & 34 & 54 & 81 & 68 & 47 & 14 & 9 & 4\\\\3 & 11 & 15 & 24 & 36 & 37 & 27 & 10 & 5 & 1\\end{array}\\right)\\]"
      ],
      "text/plain": [
       "<IPython.core.display.Latex object>"
      ]
     },
     "metadata": {},
     "output_type": "display_data"
    }
   ],
   "source": [
    "average_kernel = np.ones((3,3)) * 1/9\n",
    "base_averaged = convolve(base, average_kernel)\n",
    "base_averaged_spread = spread_gray_value(base_averaged)\n",
    "\n",
    "stepped_convolution(base, average_kernel)\n",
    "show_matrix(base_averaged, title='base\\_averaged')\n",
    "show_matrix(base_averaged_spread, title='base\\_averaged\\_spread')"
   ]
  },
  {
   "cell_type": "markdown",
   "metadata": {},
   "source": [
    "# 2) Sobel-Operatoren"
   ]
  },
  {
   "cell_type": "markdown",
   "metadata": {},
   "source": [
    "### Sobel-Operator in x-Richtung"
   ]
  },
  {
   "cell_type": "code",
   "execution_count": 15,
   "metadata": {},
   "outputs": [
    {
     "data": {
      "text/latex": [
       "\\[\\scriptstyle S_x =  \\def\\g{\\color{lightgray}}\\left(\\begin{array}{rrr}0.25 & 0.0 & -0.25\\\\0.5 & 0.0 & -0.5\\\\0.25 & 0.0 & -0.25\\end{array}\\right)\\]"
      ],
      "text/plain": [
       "<IPython.core.display.Latex object>"
      ]
     },
     "metadata": {},
     "output_type": "display_data"
    }
   ],
   "source": [
    "S_x = 0.25 * np.array([\n",
    "    [1, 0, -1],\n",
    "    [2, 0, -2],\n",
    "    [1, 0, -1]\n",
    "])\n",
    "\n",
    "show_matrix(S_x, title='S_x', round_=False)"
   ]
  },
  {
   "cell_type": "code",
   "execution_count": 9,
   "metadata": {},
   "outputs": [
    {
     "data": {
      "text/latex": [
       "\\[\\scriptstyle \\def\\g{\\color{lightgray}}\\left(\\begin{array}{rrrrrrrrrrrr}0\\cdot 0.25 & 0\\cdot 0.00 & 0\\cdot -0.25 & \\g{0} & \\g{0} & \\g{0} & \\g{0} & \\g{0} & \\g{0} & \\g{0} & \\g{0} & \\g{0}\\\\0\\cdot 0.50 & 5\\cdot 0.00 & 2\\cdot -0.50 & \\g{6} & \\g{2} & \\g{3} & \\g{2} & \\g{1} & \\g{2} & \\g{3} & \\g{1} & \\g{0}\\\\0\\cdot 0.25 & 1\\cdot 0.00 & 3\\cdot -0.25 & \\g{6} & \\g{7} & \\g{9} & \\g{2} & \\g{4} & \\g{4} & \\g{7} & \\g{1} & \\g{0}\\\\\\g{0} & \\g{1} & \\g{5} & \\g{8} & \\g{8} & \\g{10} & \\g{17} & \\g{21} & \\g{19} & \\g{9} & \\g{4} & \\g{0}\\\\\\g{0} & \\g{4} & \\g{18} & \\g{34} & \\g{56} & \\g{17} & \\g{25} & \\g{38} & \\g{17} & \\g{7} & \\g{2} & \\g{0}\\\\\\g{0} & \\g{1} & \\g{14} & \\g{22} & \\g{43} & \\g{68} & \\g{91} & \\g{62} & \\g{23} & \\g{16} & \\g{7} & \\g{0}\\\\\\g{0} & \\g{6} & \\g{12} & \\g{21} & \\g{21} & \\g{39} & \\g{87} & \\g{76} & \\g{34} & \\g{4} & \\g{2} & \\g{0}\\\\\\g{0} & \\g{9} & \\g{24} & \\g{54} & \\g{73} & \\g{88} & \\g{95} & \\g{69} & \\g{16} & \\g{12} & \\g{5} & \\g{0}\\\\\\g{0} & \\g{3} & \\g{5} & \\g{6} & \\g{40} & \\g{34} & \\g{42} & \\g{6} & \\g{4} & \\g{2} & \\g{5} & \\g{0}\\\\\\g{0} & \\g{4} & \\g{9} & \\g{16} & \\g{14} & \\g{32} & \\g{51} & \\g{13} & \\g{6} & \\g{6} & \\g{2} & \\g{0}\\\\\\g{0} & \\g{4} & \\g{2} & \\g{5} & \\g{3} & \\g{3} & \\g{3} & \\g{5} & \\g{3} & \\g{3} & \\g{3} & \\g{0}\\\\\\g{0} & \\g{0} & \\g{0} & \\g{0} & \\g{0} & \\g{0} & \\g{0} & \\g{0} & \\g{0} & \\g{0} & \\g{0} & \\g{0}\\end{array}\\right)=\\left(\\begin{array}{rrrrrrrrrrrr}-2 & \\g{2} & \\g{6} & \\g{2} & \\g{3} & \\g{2} & \\g{1} & \\g{2} & \\g{3} & \\g{1}\\\\\\g{1} & \\g{3} & \\g{6} & \\g{7} & \\g{9} & \\g{2} & \\g{4} & \\g{4} & \\g{7} & \\g{1}\\\\\\g{1} & \\g{5} & \\g{8} & \\g{8} & \\g{10} & \\g{17} & \\g{21} & \\g{19} & \\g{9} & \\g{4}\\\\\\g{4} & \\g{18} & \\g{34} & \\g{56} & \\g{17} & \\g{25} & \\g{38} & \\g{17} & \\g{7} & \\g{2}\\\\\\g{1} & \\g{14} & \\g{22} & \\g{43} & \\g{68} & \\g{91} & \\g{62} & \\g{23} & \\g{16} & \\g{7}\\\\\\g{6} & \\g{12} & \\g{21} & \\g{21} & \\g{39} & \\g{87} & \\g{76} & \\g{34} & \\g{4} & \\g{2}\\\\\\g{9} & \\g{24} & \\g{54} & \\g{73} & \\g{88} & \\g{95} & \\g{69} & \\g{16} & \\g{12} & \\g{5}\\\\\\g{3} & \\g{5} & \\g{6} & \\g{40} & \\g{34} & \\g{42} & \\g{6} & \\g{4} & \\g{2} & \\g{5}\\\\\\g{4} & \\g{9} & \\g{16} & \\g{14} & \\g{32} & \\g{51} & \\g{13} & \\g{6} & \\g{6} & \\g{2}\\\\\\g{4} & \\g{2} & \\g{5} & \\g{3} & \\g{3} & \\g{3} & \\g{5} & \\g{3} & \\g{3} & \\g{3}\\end{array}\\right)\\]"
      ],
      "text/plain": [
       "<IPython.core.display.Latex object>"
      ]
     },
     "metadata": {},
     "output_type": "display_data"
    },
    {
     "data": {
      "text/latex": [
       "\\[\\scriptstyle \\def\\g{\\color{lightgray}}\\left(\\begin{array}{rrrrrrrrrrrr}\\g{0} & 0\\cdot 0.25 & 0\\cdot 0.00 & 0\\cdot -0.25 & \\g{0} & \\g{0} & \\g{0} & \\g{0} & \\g{0} & \\g{0} & \\g{0} & \\g{0}\\\\\\g{0} & 5\\cdot 0.50 & 2\\cdot 0.00 & 6\\cdot -0.50 & \\g{2} & \\g{3} & \\g{2} & \\g{1} & \\g{2} & \\g{3} & \\g{1} & \\g{0}\\\\\\g{0} & 1\\cdot 0.25 & 3\\cdot 0.00 & 6\\cdot -0.25 & \\g{7} & \\g{9} & \\g{2} & \\g{4} & \\g{4} & \\g{7} & \\g{1} & \\g{0}\\\\\\g{0} & \\g{1} & \\g{5} & \\g{8} & \\g{8} & \\g{10} & \\g{17} & \\g{21} & \\g{19} & \\g{9} & \\g{4} & \\g{0}\\\\\\g{0} & \\g{4} & \\g{18} & \\g{34} & \\g{56} & \\g{17} & \\g{25} & \\g{38} & \\g{17} & \\g{7} & \\g{2} & \\g{0}\\\\\\g{0} & \\g{1} & \\g{14} & \\g{22} & \\g{43} & \\g{68} & \\g{91} & \\g{62} & \\g{23} & \\g{16} & \\g{7} & \\g{0}\\\\\\g{0} & \\g{6} & \\g{12} & \\g{21} & \\g{21} & \\g{39} & \\g{87} & \\g{76} & \\g{34} & \\g{4} & \\g{2} & \\g{0}\\\\\\g{0} & \\g{9} & \\g{24} & \\g{54} & \\g{73} & \\g{88} & \\g{95} & \\g{69} & \\g{16} & \\g{12} & \\g{5} & \\g{0}\\\\\\g{0} & \\g{3} & \\g{5} & \\g{6} & \\g{40} & \\g{34} & \\g{42} & \\g{6} & \\g{4} & \\g{2} & \\g{5} & \\g{0}\\\\\\g{0} & \\g{4} & \\g{9} & \\g{16} & \\g{14} & \\g{32} & \\g{51} & \\g{13} & \\g{6} & \\g{6} & \\g{2} & \\g{0}\\\\\\g{0} & \\g{4} & \\g{2} & \\g{5} & \\g{3} & \\g{3} & \\g{3} & \\g{5} & \\g{3} & \\g{3} & \\g{3} & \\g{0}\\\\\\g{0} & \\g{0} & \\g{0} & \\g{0} & \\g{0} & \\g{0} & \\g{0} & \\g{0} & \\g{0} & \\g{0} & \\g{0} & \\g{0}\\end{array}\\right)=\\left(\\begin{array}{rrrrrrrrrrrr}\\g{-2} & -2 & \\g{6} & \\g{2} & \\g{3} & \\g{2} & \\g{1} & \\g{2} & \\g{3} & \\g{1}\\\\\\g{1} & \\g{3} & \\g{6} & \\g{7} & \\g{9} & \\g{2} & \\g{4} & \\g{4} & \\g{7} & \\g{1}\\\\\\g{1} & \\g{5} & \\g{8} & \\g{8} & \\g{10} & \\g{17} & \\g{21} & \\g{19} & \\g{9} & \\g{4}\\\\\\g{4} & \\g{18} & \\g{34} & \\g{56} & \\g{17} & \\g{25} & \\g{38} & \\g{17} & \\g{7} & \\g{2}\\\\\\g{1} & \\g{14} & \\g{22} & \\g{43} & \\g{68} & \\g{91} & \\g{62} & \\g{23} & \\g{16} & \\g{7}\\\\\\g{6} & \\g{12} & \\g{21} & \\g{21} & \\g{39} & \\g{87} & \\g{76} & \\g{34} & \\g{4} & \\g{2}\\\\\\g{9} & \\g{24} & \\g{54} & \\g{73} & \\g{88} & \\g{95} & \\g{69} & \\g{16} & \\g{12} & \\g{5}\\\\\\g{3} & \\g{5} & \\g{6} & \\g{40} & \\g{34} & \\g{42} & \\g{6} & \\g{4} & \\g{2} & \\g{5}\\\\\\g{4} & \\g{9} & \\g{16} & \\g{14} & \\g{32} & \\g{51} & \\g{13} & \\g{6} & \\g{6} & \\g{2}\\\\\\g{4} & \\g{2} & \\g{5} & \\g{3} & \\g{3} & \\g{3} & \\g{5} & \\g{3} & \\g{3} & \\g{3}\\end{array}\\right)\\]"
      ],
      "text/plain": [
       "<IPython.core.display.Latex object>"
      ]
     },
     "metadata": {},
     "output_type": "display_data"
    },
    {
     "data": {
      "text/latex": [
       "\\[\\scriptstyle \\def\\g{\\color{lightgray}}\\left(\\begin{array}{rrrrrrrrrrrr}\\g{0} & \\g{0} & 0\\cdot 0.25 & 0\\cdot 0.00 & 0\\cdot -0.25 & \\g{0} & \\g{0} & \\g{0} & \\g{0} & \\g{0} & \\g{0} & \\g{0}\\\\\\g{0} & \\g{5} & 2\\cdot 0.50 & 6\\cdot 0.00 & 2\\cdot -0.50 & \\g{3} & \\g{2} & \\g{1} & \\g{2} & \\g{3} & \\g{1} & \\g{0}\\\\\\g{0} & \\g{1} & 3\\cdot 0.25 & 6\\cdot 0.00 & 7\\cdot -0.25 & \\g{9} & \\g{2} & \\g{4} & \\g{4} & \\g{7} & \\g{1} & \\g{0}\\\\\\g{0} & \\g{1} & \\g{5} & \\g{8} & \\g{8} & \\g{10} & \\g{17} & \\g{21} & \\g{19} & \\g{9} & \\g{4} & \\g{0}\\\\\\g{0} & \\g{4} & \\g{18} & \\g{34} & \\g{56} & \\g{17} & \\g{25} & \\g{38} & \\g{17} & \\g{7} & \\g{2} & \\g{0}\\\\\\g{0} & \\g{1} & \\g{14} & \\g{22} & \\g{43} & \\g{68} & \\g{91} & \\g{62} & \\g{23} & \\g{16} & \\g{7} & \\g{0}\\\\\\g{0} & \\g{6} & \\g{12} & \\g{21} & \\g{21} & \\g{39} & \\g{87} & \\g{76} & \\g{34} & \\g{4} & \\g{2} & \\g{0}\\\\\\g{0} & \\g{9} & \\g{24} & \\g{54} & \\g{73} & \\g{88} & \\g{95} & \\g{69} & \\g{16} & \\g{12} & \\g{5} & \\g{0}\\\\\\g{0} & \\g{3} & \\g{5} & \\g{6} & \\g{40} & \\g{34} & \\g{42} & \\g{6} & \\g{4} & \\g{2} & \\g{5} & \\g{0}\\\\\\g{0} & \\g{4} & \\g{9} & \\g{16} & \\g{14} & \\g{32} & \\g{51} & \\g{13} & \\g{6} & \\g{6} & \\g{2} & \\g{0}\\\\\\g{0} & \\g{4} & \\g{2} & \\g{5} & \\g{3} & \\g{3} & \\g{3} & \\g{5} & \\g{3} & \\g{3} & \\g{3} & \\g{0}\\\\\\g{0} & \\g{0} & \\g{0} & \\g{0} & \\g{0} & \\g{0} & \\g{0} & \\g{0} & \\g{0} & \\g{0} & \\g{0} & \\g{0}\\end{array}\\right)=\\left(\\begin{array}{rrrrrrrrrrrr}\\g{-2} & \\g{-2} & -1 & \\g{2} & \\g{3} & \\g{2} & \\g{1} & \\g{2} & \\g{3} & \\g{1}\\\\\\g{1} & \\g{3} & \\g{6} & \\g{7} & \\g{9} & \\g{2} & \\g{4} & \\g{4} & \\g{7} & \\g{1}\\\\\\g{1} & \\g{5} & \\g{8} & \\g{8} & \\g{10} & \\g{17} & \\g{21} & \\g{19} & \\g{9} & \\g{4}\\\\\\g{4} & \\g{18} & \\g{34} & \\g{56} & \\g{17} & \\g{25} & \\g{38} & \\g{17} & \\g{7} & \\g{2}\\\\\\g{1} & \\g{14} & \\g{22} & \\g{43} & \\g{68} & \\g{91} & \\g{62} & \\g{23} & \\g{16} & \\g{7}\\\\\\g{6} & \\g{12} & \\g{21} & \\g{21} & \\g{39} & \\g{87} & \\g{76} & \\g{34} & \\g{4} & \\g{2}\\\\\\g{9} & \\g{24} & \\g{54} & \\g{73} & \\g{88} & \\g{95} & \\g{69} & \\g{16} & \\g{12} & \\g{5}\\\\\\g{3} & \\g{5} & \\g{6} & \\g{40} & \\g{34} & \\g{42} & \\g{6} & \\g{4} & \\g{2} & \\g{5}\\\\\\g{4} & \\g{9} & \\g{16} & \\g{14} & \\g{32} & \\g{51} & \\g{13} & \\g{6} & \\g{6} & \\g{2}\\\\\\g{4} & \\g{2} & \\g{5} & \\g{3} & \\g{3} & \\g{3} & \\g{5} & \\g{3} & \\g{3} & \\g{3}\\end{array}\\right)\\]"
      ],
      "text/plain": [
       "<IPython.core.display.Latex object>"
      ]
     },
     "metadata": {},
     "output_type": "display_data"
    },
    {
     "data": {
      "text/latex": [
       "\\[\\scriptstyle x =  \\def\\g{\\color{lightgray}}\\left(\\begin{array}{rrrrrrrrrr}-2 & -2 & -1 & 1 & 1 & 2 & 0 & -2 & 1 & 3\\\\-3 & -4 & -3 & -1 & 0 & 0 & -2 & 1 & 6 & 6\\\\-8 & -12 & -12 & 2 & 4 & -10 & 0 & 13 & 12 & 8\\\\-14 & -22 & -27 & -4 & 1 & -12 & 20 & 30 & 15 & 10\\\\-14 & -22 & -26 & -23 & -33 & -12 & 49 & 49 & 20 & 11\\\\-16 & -24 & -24 & -29 & -50 & -12 & 63 & 62 & 23 & 9\\\\-16 & -27 & -36 & -28 & -28 & 7 & 62 & 48 & 13 & 8\\\\-11 & -16 & -31 & -26 & -16 & 24 & 50 & 18 & 3 & 6\\\\-6 & -7 & -12 & -14 & -19 & 16 & 32 & 5 & 2 & 4\\\\-3 & -4 & -2 & -3 & -9 & 4 & 11 & 3 & 1 & 3\\end{array}\\right)\\]"
      ],
      "text/plain": [
       "<IPython.core.display.Latex object>"
      ]
     },
     "metadata": {},
     "output_type": "display_data"
    },
    {
     "data": {
      "text/latex": [
       "\\[\\scriptstyle x\\_spread =  \\def\\g{\\color{lightgray}}\\left(\\begin{array}{rrrrrrrrrr}109 & 109 & 111 & 114 & 116 & 118 & 112 & 109 & 116 & 120\\\\106 & 103 & 107 & 110 & 113 & 113 & 109 & 115 & 125 & 127\\\\95 & 85 & 86 & 118 & 123 & 92 & 114 & 142 & 140 & 131\\\\82 & 64 & 52 & 105 & 116 & 87 & 159 & 180 & 147 & 135\\\\80 & 64 & 54 & 61 & 40 & 87 & 223 & 222 & 157 & 137\\\\78 & 59 & 59 & 48 & 0 & 85 & 254 & 251 & 164 & 133\\\\76 & 52 & 33 & 49 & 50 & 129 & 252 & 219 & 142 & 130\\\\89 & 78 & 44 & 54 & 78 & 165 & 224 & 153 & 120 & 125\\\\99 & 97 & 87 & 80 & 70 & 148 & 184 & 124 & 117 & 122\\\\106 & 105 & 109 & 106 & 92 & 121 & 138 & 119 & 115 & 119\\end{array}\\right)\\]"
      ],
      "text/plain": [
       "<IPython.core.display.Latex object>"
      ]
     },
     "metadata": {},
     "output_type": "display_data"
    }
   ],
   "source": [
    "x = convolve(base, S_x)\n",
    "x_spread = spread_gray_value(x)\n",
    "\n",
    "stepped_convolution(base, S_x)\n",
    "show_matrix(x, title='x')\n",
    "show_matrix(x_spread, title='x\\_spread')"
   ]
  },
  {
   "cell_type": "markdown",
   "metadata": {},
   "source": [
    "### Sobel-Operator in y-Richtung"
   ]
  },
  {
   "cell_type": "code",
   "execution_count": 14,
   "metadata": {},
   "outputs": [
    {
     "data": {
      "text/latex": [
       "\\[\\scriptstyle S_y =  \\def\\g{\\color{lightgray}}\\left(\\begin{array}{rrr}0.25 & 0.5 & 0.25\\\\0.0 & 0.0 & 0.0\\\\-0.25 & -0.5 & -0.25\\end{array}\\right)\\]"
      ],
      "text/plain": [
       "<IPython.core.display.Latex object>"
      ]
     },
     "metadata": {},
     "output_type": "display_data"
    }
   ],
   "source": [
    "S_y = 0.25 * np.array([\n",
    "    [1, 2, 1],\n",
    "    [0, 0, 0],\n",
    "    [-1, -2, -1]\n",
    "])\n",
    "\n",
    "show_matrix(S_y, title='S_y', round_=False)"
   ]
  },
  {
   "cell_type": "code",
   "execution_count": 11,
   "metadata": {
    "scrolled": true
   },
   "outputs": [
    {
     "data": {
      "text/latex": [
       "\\[\\scriptstyle \\def\\g{\\color{lightgray}}\\left(\\begin{array}{rrrrrrrrrrrr}0\\cdot 0.25 & 0\\cdot 0.50 & 0\\cdot 0.25 & \\g{0} & \\g{0} & \\g{0} & \\g{0} & \\g{0} & \\g{0} & \\g{0} & \\g{0} & \\g{0}\\\\0\\cdot 0.00 & 5\\cdot 0.00 & 2\\cdot 0.00 & \\g{6} & \\g{2} & \\g{3} & \\g{2} & \\g{1} & \\g{2} & \\g{3} & \\g{1} & \\g{0}\\\\0\\cdot -0.25 & 1\\cdot -0.50 & 3\\cdot -0.25 & \\g{6} & \\g{7} & \\g{9} & \\g{2} & \\g{4} & \\g{4} & \\g{7} & \\g{1} & \\g{0}\\\\\\g{0} & \\g{1} & \\g{5} & \\g{8} & \\g{8} & \\g{10} & \\g{17} & \\g{21} & \\g{19} & \\g{9} & \\g{4} & \\g{0}\\\\\\g{0} & \\g{4} & \\g{18} & \\g{34} & \\g{56} & \\g{17} & \\g{25} & \\g{38} & \\g{17} & \\g{7} & \\g{2} & \\g{0}\\\\\\g{0} & \\g{1} & \\g{14} & \\g{22} & \\g{43} & \\g{68} & \\g{91} & \\g{62} & \\g{23} & \\g{16} & \\g{7} & \\g{0}\\\\\\g{0} & \\g{6} & \\g{12} & \\g{21} & \\g{21} & \\g{39} & \\g{87} & \\g{76} & \\g{34} & \\g{4} & \\g{2} & \\g{0}\\\\\\g{0} & \\g{9} & \\g{24} & \\g{54} & \\g{73} & \\g{88} & \\g{95} & \\g{69} & \\g{16} & \\g{12} & \\g{5} & \\g{0}\\\\\\g{0} & \\g{3} & \\g{5} & \\g{6} & \\g{40} & \\g{34} & \\g{42} & \\g{6} & \\g{4} & \\g{2} & \\g{5} & \\g{0}\\\\\\g{0} & \\g{4} & \\g{9} & \\g{16} & \\g{14} & \\g{32} & \\g{51} & \\g{13} & \\g{6} & \\g{6} & \\g{2} & \\g{0}\\\\\\g{0} & \\g{4} & \\g{2} & \\g{5} & \\g{3} & \\g{3} & \\g{3} & \\g{5} & \\g{3} & \\g{3} & \\g{3} & \\g{0}\\\\\\g{0} & \\g{0} & \\g{0} & \\g{0} & \\g{0} & \\g{0} & \\g{0} & \\g{0} & \\g{0} & \\g{0} & \\g{0} & \\g{0}\\end{array}\\right)=\\left(\\begin{array}{rrrrrrrrrrrr}-1 & \\g{2} & \\g{6} & \\g{2} & \\g{3} & \\g{2} & \\g{1} & \\g{2} & \\g{3} & \\g{1}\\\\\\g{1} & \\g{3} & \\g{6} & \\g{7} & \\g{9} & \\g{2} & \\g{4} & \\g{4} & \\g{7} & \\g{1}\\\\\\g{1} & \\g{5} & \\g{8} & \\g{8} & \\g{10} & \\g{17} & \\g{21} & \\g{19} & \\g{9} & \\g{4}\\\\\\g{4} & \\g{18} & \\g{34} & \\g{56} & \\g{17} & \\g{25} & \\g{38} & \\g{17} & \\g{7} & \\g{2}\\\\\\g{1} & \\g{14} & \\g{22} & \\g{43} & \\g{68} & \\g{91} & \\g{62} & \\g{23} & \\g{16} & \\g{7}\\\\\\g{6} & \\g{12} & \\g{21} & \\g{21} & \\g{39} & \\g{87} & \\g{76} & \\g{34} & \\g{4} & \\g{2}\\\\\\g{9} & \\g{24} & \\g{54} & \\g{73} & \\g{88} & \\g{95} & \\g{69} & \\g{16} & \\g{12} & \\g{5}\\\\\\g{3} & \\g{5} & \\g{6} & \\g{40} & \\g{34} & \\g{42} & \\g{6} & \\g{4} & \\g{2} & \\g{5}\\\\\\g{4} & \\g{9} & \\g{16} & \\g{14} & \\g{32} & \\g{51} & \\g{13} & \\g{6} & \\g{6} & \\g{2}\\\\\\g{4} & \\g{2} & \\g{5} & \\g{3} & \\g{3} & \\g{3} & \\g{5} & \\g{3} & \\g{3} & \\g{3}\\end{array}\\right)\\]"
      ],
      "text/plain": [
       "<IPython.core.display.Latex object>"
      ]
     },
     "metadata": {},
     "output_type": "display_data"
    },
    {
     "data": {
      "text/latex": [
       "\\[\\scriptstyle \\def\\g{\\color{lightgray}}\\left(\\begin{array}{rrrrrrrrrrrr}\\g{0} & 0\\cdot 0.25 & 0\\cdot 0.50 & 0\\cdot 0.25 & \\g{0} & \\g{0} & \\g{0} & \\g{0} & \\g{0} & \\g{0} & \\g{0} & \\g{0}\\\\\\g{0} & 5\\cdot 0.00 & 2\\cdot 0.00 & 6\\cdot 0.00 & \\g{2} & \\g{3} & \\g{2} & \\g{1} & \\g{2} & \\g{3} & \\g{1} & \\g{0}\\\\\\g{0} & 1\\cdot -0.25 & 3\\cdot -0.50 & 6\\cdot -0.25 & \\g{7} & \\g{9} & \\g{2} & \\g{4} & \\g{4} & \\g{7} & \\g{1} & \\g{0}\\\\\\g{0} & \\g{1} & \\g{5} & \\g{8} & \\g{8} & \\g{10} & \\g{17} & \\g{21} & \\g{19} & \\g{9} & \\g{4} & \\g{0}\\\\\\g{0} & \\g{4} & \\g{18} & \\g{34} & \\g{56} & \\g{17} & \\g{25} & \\g{38} & \\g{17} & \\g{7} & \\g{2} & \\g{0}\\\\\\g{0} & \\g{1} & \\g{14} & \\g{22} & \\g{43} & \\g{68} & \\g{91} & \\g{62} & \\g{23} & \\g{16} & \\g{7} & \\g{0}\\\\\\g{0} & \\g{6} & \\g{12} & \\g{21} & \\g{21} & \\g{39} & \\g{87} & \\g{76} & \\g{34} & \\g{4} & \\g{2} & \\g{0}\\\\\\g{0} & \\g{9} & \\g{24} & \\g{54} & \\g{73} & \\g{88} & \\g{95} & \\g{69} & \\g{16} & \\g{12} & \\g{5} & \\g{0}\\\\\\g{0} & \\g{3} & \\g{5} & \\g{6} & \\g{40} & \\g{34} & \\g{42} & \\g{6} & \\g{4} & \\g{2} & \\g{5} & \\g{0}\\\\\\g{0} & \\g{4} & \\g{9} & \\g{16} & \\g{14} & \\g{32} & \\g{51} & \\g{13} & \\g{6} & \\g{6} & \\g{2} & \\g{0}\\\\\\g{0} & \\g{4} & \\g{2} & \\g{5} & \\g{3} & \\g{3} & \\g{3} & \\g{5} & \\g{3} & \\g{3} & \\g{3} & \\g{0}\\\\\\g{0} & \\g{0} & \\g{0} & \\g{0} & \\g{0} & \\g{0} & \\g{0} & \\g{0} & \\g{0} & \\g{0} & \\g{0} & \\g{0}\\end{array}\\right)=\\left(\\begin{array}{rrrrrrrrrrrr}\\g{-1} & -3 & \\g{6} & \\g{2} & \\g{3} & \\g{2} & \\g{1} & \\g{2} & \\g{3} & \\g{1}\\\\\\g{1} & \\g{3} & \\g{6} & \\g{7} & \\g{9} & \\g{2} & \\g{4} & \\g{4} & \\g{7} & \\g{1}\\\\\\g{1} & \\g{5} & \\g{8} & \\g{8} & \\g{10} & \\g{17} & \\g{21} & \\g{19} & \\g{9} & \\g{4}\\\\\\g{4} & \\g{18} & \\g{34} & \\g{56} & \\g{17} & \\g{25} & \\g{38} & \\g{17} & \\g{7} & \\g{2}\\\\\\g{1} & \\g{14} & \\g{22} & \\g{43} & \\g{68} & \\g{91} & \\g{62} & \\g{23} & \\g{16} & \\g{7}\\\\\\g{6} & \\g{12} & \\g{21} & \\g{21} & \\g{39} & \\g{87} & \\g{76} & \\g{34} & \\g{4} & \\g{2}\\\\\\g{9} & \\g{24} & \\g{54} & \\g{73} & \\g{88} & \\g{95} & \\g{69} & \\g{16} & \\g{12} & \\g{5}\\\\\\g{3} & \\g{5} & \\g{6} & \\g{40} & \\g{34} & \\g{42} & \\g{6} & \\g{4} & \\g{2} & \\g{5}\\\\\\g{4} & \\g{9} & \\g{16} & \\g{14} & \\g{32} & \\g{51} & \\g{13} & \\g{6} & \\g{6} & \\g{2}\\\\\\g{4} & \\g{2} & \\g{5} & \\g{3} & \\g{3} & \\g{3} & \\g{5} & \\g{3} & \\g{3} & \\g{3}\\end{array}\\right)\\]"
      ],
      "text/plain": [
       "<IPython.core.display.Latex object>"
      ]
     },
     "metadata": {},
     "output_type": "display_data"
    },
    {
     "data": {
      "text/latex": [
       "\\[\\scriptstyle \\def\\g{\\color{lightgray}}\\left(\\begin{array}{rrrrrrrrrrrr}\\g{0} & \\g{0} & 0\\cdot 0.25 & 0\\cdot 0.50 & 0\\cdot 0.25 & \\g{0} & \\g{0} & \\g{0} & \\g{0} & \\g{0} & \\g{0} & \\g{0}\\\\\\g{0} & \\g{5} & 2\\cdot 0.00 & 6\\cdot 0.00 & 2\\cdot 0.00 & \\g{3} & \\g{2} & \\g{1} & \\g{2} & \\g{3} & \\g{1} & \\g{0}\\\\\\g{0} & \\g{1} & 3\\cdot -0.25 & 6\\cdot -0.50 & 7\\cdot -0.25 & \\g{9} & \\g{2} & \\g{4} & \\g{4} & \\g{7} & \\g{1} & \\g{0}\\\\\\g{0} & \\g{1} & \\g{5} & \\g{8} & \\g{8} & \\g{10} & \\g{17} & \\g{21} & \\g{19} & \\g{9} & \\g{4} & \\g{0}\\\\\\g{0} & \\g{4} & \\g{18} & \\g{34} & \\g{56} & \\g{17} & \\g{25} & \\g{38} & \\g{17} & \\g{7} & \\g{2} & \\g{0}\\\\\\g{0} & \\g{1} & \\g{14} & \\g{22} & \\g{43} & \\g{68} & \\g{91} & \\g{62} & \\g{23} & \\g{16} & \\g{7} & \\g{0}\\\\\\g{0} & \\g{6} & \\g{12} & \\g{21} & \\g{21} & \\g{39} & \\g{87} & \\g{76} & \\g{34} & \\g{4} & \\g{2} & \\g{0}\\\\\\g{0} & \\g{9} & \\g{24} & \\g{54} & \\g{73} & \\g{88} & \\g{95} & \\g{69} & \\g{16} & \\g{12} & \\g{5} & \\g{0}\\\\\\g{0} & \\g{3} & \\g{5} & \\g{6} & \\g{40} & \\g{34} & \\g{42} & \\g{6} & \\g{4} & \\g{2} & \\g{5} & \\g{0}\\\\\\g{0} & \\g{4} & \\g{9} & \\g{16} & \\g{14} & \\g{32} & \\g{51} & \\g{13} & \\g{6} & \\g{6} & \\g{2} & \\g{0}\\\\\\g{0} & \\g{4} & \\g{2} & \\g{5} & \\g{3} & \\g{3} & \\g{3} & \\g{5} & \\g{3} & \\g{3} & \\g{3} & \\g{0}\\\\\\g{0} & \\g{0} & \\g{0} & \\g{0} & \\g{0} & \\g{0} & \\g{0} & \\g{0} & \\g{0} & \\g{0} & \\g{0} & \\g{0}\\end{array}\\right)=\\left(\\begin{array}{rrrrrrrrrrrr}\\g{-1} & \\g{-3} & -6 & \\g{2} & \\g{3} & \\g{2} & \\g{1} & \\g{2} & \\g{3} & \\g{1}\\\\\\g{1} & \\g{3} & \\g{6} & \\g{7} & \\g{9} & \\g{2} & \\g{4} & \\g{4} & \\g{7} & \\g{1}\\\\\\g{1} & \\g{5} & \\g{8} & \\g{8} & \\g{10} & \\g{17} & \\g{21} & \\g{19} & \\g{9} & \\g{4}\\\\\\g{4} & \\g{18} & \\g{34} & \\g{56} & \\g{17} & \\g{25} & \\g{38} & \\g{17} & \\g{7} & \\g{2}\\\\\\g{1} & \\g{14} & \\g{22} & \\g{43} & \\g{68} & \\g{91} & \\g{62} & \\g{23} & \\g{16} & \\g{7}\\\\\\g{6} & \\g{12} & \\g{21} & \\g{21} & \\g{39} & \\g{87} & \\g{76} & \\g{34} & \\g{4} & \\g{2}\\\\\\g{9} & \\g{24} & \\g{54} & \\g{73} & \\g{88} & \\g{95} & \\g{69} & \\g{16} & \\g{12} & \\g{5}\\\\\\g{3} & \\g{5} & \\g{6} & \\g{40} & \\g{34} & \\g{42} & \\g{6} & \\g{4} & \\g{2} & \\g{5}\\\\\\g{4} & \\g{9} & \\g{16} & \\g{14} & \\g{32} & \\g{51} & \\g{13} & \\g{6} & \\g{6} & \\g{2}\\\\\\g{4} & \\g{2} & \\g{5} & \\g{3} & \\g{3} & \\g{3} & \\g{5} & \\g{3} & \\g{3} & \\g{3}\\end{array}\\right)\\]"
      ],
      "text/plain": [
       "<IPython.core.display.Latex object>"
      ]
     },
     "metadata": {},
     "output_type": "display_data"
    },
    {
     "data": {
      "text/latex": [
       "\\[\\scriptstyle y =  \\def\\g{\\color{lightgray}}\\left(\\begin{array}{rrrrrrrrrr}-1 & -3 & -6 & -7 & -7 & -4 & -4 & -5 & -5 & -2\\\\1 & -1 & -3 & -5 & -9 & -14 & -18 & -15 & -8 & -3\\\\-5 & -15 & -30 & -34 & -22 & -22 & -26 & -15 & -4 & 0\\\\-2 & -8 & -18 & -36 & -56 & -62 & -40 & -14 & -5 & -3\\\\0 & 6 & 17 & 15 & -18 & -46 & -39 & -17 & -3 & 1\\\\-6 & -15 & -26 & -28 & -18 & -9 & -3 & 3 & 4 & 2\\\\3 & 8 & 4 & -4 & 9 & 41 & 54 & 33 & 8 & -1\\\\6 & 18 & 38 & 53 & 54 & 50 & 42 & 20 & 6 & 3\\\\0 & 2 & 10 & 26 & 34 & 28 & 10 & 0 & 0 & 1\\\\4 & 10 & 14 & 19 & 32 & 37 & 21 & 8 & 5 & 2\\end{array}\\right)\\]"
      ],
      "text/plain": [
       "<IPython.core.display.Latex object>"
      ]
     },
     "metadata": {},
     "output_type": "display_data"
    },
    {
     "data": {
      "text/latex": [
       "\\[\\scriptstyle y\\_spread =  \\def\\g{\\color{lightgray}}\\left(\\begin{array}{rrrrrrrrrr}133 & 129 & 124 & 120 & 121 & 126 & 128 & 125 & 125 & 131\\\\139 & 134 & 129 & 124 & 117 & 104 & 96 & 103 & 118 & 129\\\\124 & 102 & 70 & 62 & 87 & 87 & 79 & 103 & 128 & 135\\\\131 & 118 & 96 & 58 & 12 & 0 & 48 & 105 & 124 & 129\\\\137 & 148 & 173 & 169 & 97 & 35 & 51 & 98 & 130 & 137\\\\122 & 103 & 79 & 74 & 95 & 117 & 130 & 142 & 145 & 140\\\\143 & 153 & 146 & 126 & 156 & 227 & 254 & 208 & 153 & 134\\\\150 & 176 & 218 & 252 & 254 & 246 & 227 & 181 & 150 & 142\\\\136 & 139 & 159 & 194 & 212 & 196 & 159 & 137 & 136 & 137\\\\145 & 157 & 166 & 178 & 207 & 217 & 181 & 153 & 147 & 141\\end{array}\\right)\\]"
      ],
      "text/plain": [
       "<IPython.core.display.Latex object>"
      ]
     },
     "metadata": {},
     "output_type": "display_data"
    }
   ],
   "source": [
    "y = convolve(base, S_y)\n",
    "y_spread = spread_gray_value(y)\n",
    "\n",
    "stepped_convolution(base, S_y)\n",
    "show_matrix(y, title='y')\n",
    "show_matrix(y_spread, title='y\\_spread')"
   ]
  },
  {
   "cell_type": "markdown",
   "metadata": {},
   "source": [
    "# 3) Berechnung der Kanten (Sobel-Operator-Max)"
   ]
  },
  {
   "cell_type": "code",
   "execution_count": 12,
   "metadata": {
    "scrolled": true
   },
   "outputs": [
    {
     "data": {
      "text/latex": [
       "\\[\\scriptstyle g =  \\def\\g{\\color{lightgray}}\\left(\\begin{array}{rrrrrrrrrr}-1 & -2 & -1 & 1 & 1 & 2 & 0 & -2 & 1 & 3\\\\1 & -1 & -3 & -1 & 0 & 0 & -2 & 1 & 6 & 6\\\\-5 & -12 & -12 & 2 & 4 & -10 & 0 & 13 & 12 & 8\\\\-2 & -8 & -18 & -4 & 1 & -12 & 20 & 30 & 15 & 10\\\\0 & 6 & 17 & 15 & -18 & -12 & 49 & 49 & 20 & 11\\\\-6 & -15 & -24 & -28 & -18 & -9 & 63 & 62 & 23 & 9\\\\3 & 8 & 4 & -4 & 9 & 41 & 62 & 48 & 13 & 8\\\\6 & 18 & 38 & 53 & 54 & 50 & 50 & 20 & 6 & 6\\\\0 & 2 & 10 & 26 & 34 & 28 & 32 & 5 & 2 & 4\\\\4 & 10 & 14 & 19 & 32 & 37 & 21 & 8 & 5 & 3\\end{array}\\right)\\]"
      ],
      "text/plain": [
       "<IPython.core.display.Latex object>"
      ]
     },
     "metadata": {},
     "output_type": "display_data"
    },
    {
     "data": {
      "text/latex": [
       "\\[\\scriptstyle g\\_spread =  \\def\\g{\\color{lightgray}}\\left(\\begin{array}{rrrrrrrrrr}74 & 73 & 75 & 80 & 81 & 84 & 77 & 73 & 81 & 87\\\\81 & 75 & 70 & 74 & 79 & 79 & 74 & 81 & 93 & 96\\\\63 & 44 & 45 & 85 & 90 & 51 & 79 & 114 & 111 & 100\\\\72 & 56 & 28 & 68 & 81 & 45 & 135 & 161 & 120 & 105\\\\79 & 94 & 125 & 120 & 29 & 46 & 215 & 214 & 133 & 108\\\\60 & 36 & 11 & 0 & 26 & 54 & 254 & 250 & 141 & 103\\\\87 & 100 & 90 & 65 & 103 & 193 & 251 & 210 & 115 & 99\\\\95 & 129 & 182 & 225 & 228 & 217 & 217 & 135 & 95 & 93\\\\79 & 82 & 107 & 152 & 174 & 154 & 167 & 92 & 83 & 90\\\\90 & 104 & 116 & 131 & 168 & 180 & 136 & 100 & 92 & 86\\end{array}\\right)\\]"
      ],
      "text/plain": [
       "<IPython.core.display.Latex object>"
      ]
     },
     "metadata": {},
     "output_type": "display_data"
    },
    {
     "data": {
      "text/plain": [
       "<matplotlib.image.AxesImage at 0x10a1aabd0>"
      ]
     },
     "execution_count": 12,
     "metadata": {},
     "output_type": "execute_result"
    },
    {
     "data": {
      "image/png": "[encoded data removed]",
      "text/plain": [
       "<Figure size 432x288 with 1 Axes>"
      ]
     },
     "metadata": {},
     "output_type": "display_data"
    }
   ],
   "source": [
    "g = np.maximum(x, y)\n",
    "g_spread = spread_gray_value(g)\n",
    "\n",
    "show_matrix(g, title='g')\n",
    "show_matrix(g_spread, title='g\\_spread')\n",
    "show(g_spread)"
   ]
  },
  {
   "cell_type": "markdown",
   "metadata": {},
   "source": [
    "# 4) Darstellungen der einzelnen Schritte"
   ]
  },
  {
   "cell_type": "code",
   "execution_count": 13,
   "metadata": {},
   "outputs": [
    {
     "data": {
      "image/png": "[encoded data removed]",
      "text/plain": [
       "<Figure size 936x648 with 6 Axes>"
      ]
     },
     "metadata": {},
     "output_type": "display_data"
    }
   ],
   "source": [
    "fig = plt.figure(figsize=(13, 9))\n",
    "\n",
    "rows = 2\n",
    "columns = 3\n",
    "\n",
    "in_ = fig.add_subplot(rows, columns, 1)\n",
    "in_.set_title(\"Eingabe\")\n",
    "show(base)\n",
    "\n",
    "in_spread = fig.add_subplot(rows, columns, 2)\n",
    "in_spread.set_title(\"Eingabe nach Grauwertspreizung\")\n",
    "show(base_spread)\n",
    "\n",
    "avg = fig.add_subplot(rows, columns, 3)\n",
    "avg.set_title(\"Mittelwertfilter\")\n",
    "show(base_averaged_spread)\n",
    "\n",
    "x_plt = fig.add_subplot(rows, columns, 4)\n",
    "x_plt.set_title(\"Sobel-Operator in x-Richtung\")\n",
    "show(x_spread)\n",
    "\n",
    "y_plt = fig.add_subplot(rows, columns, 5)\n",
    "y_plt.set_title(\"Sobel-Operator in y-Richtung\")\n",
    "show(y_spread)\n",
    "\n",
    "g_plt = fig.add_subplot(rows, columns, 6)\n",
    "g_plt.set_title(\"Sobel-Operator-Max\")\n",
    "show(g_spread)\n",
    "\n",
    "plt.show()"
   ]
  },
  {
   "cell_type": "code",
   "execution_count": null,
   "metadata": {},
   "outputs": [],
   "source": []
  }
 ],
 "metadata": {
  "kernelspec": {
   "display_name": "Python 3",
   "language": "python",
   "name": "python3"
  },
  "language_info": {
   "codemirror_mode": {
    "name": "ipython",
    "version": 2
   },
   "file_extension": ".py",
   "mimetype": "text/x-python",
   "name": "python",
   "nbconvert_exporter": "python",
   "pygments_lexer": "ipython2",
   "version": "2.7.15"
  }
 },
 "nbformat": 4,
 "nbformat_minor": 2
}
