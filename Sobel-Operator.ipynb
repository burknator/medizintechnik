{
 "cells": [
  {
   "cell_type": "code",
   "execution_count": 1,
   "metadata": {},
   "outputs": [],
   "source": [
    "import numpy as np\n",
    "import matplotlib.pyplot as plt\n",
    "from matplotlib.colors import NoNorm"
   ]
  },
  {
   "cell_type": "code",
   "execution_count": 2,
   "metadata": {},
   "outputs": [],
   "source": [
    "base = \"\"\"\n",
    "5 2 6 2 3 2 1 2 3 1\n",
    "1 3 6 7 9 2 4 4 7 1\n",
    "1 5 8 8 10 17 21 19 9 4\n",
    "4 18 34 56 17 25 38 17 7 2\n",
    "1 14 22 43 68 91 62 23 16 7\n",
    "6 12 21 21 39 87 76 34 4 2\n",
    "9 24 54 73 88 95 69 16 12 5\n",
    "3 5 6 40 34 42 6 4 2 5\n",
    "4 9 16 14 32 51 13 6 6 2\n",
    "4 2 5 3 3 3 5 3 3 3\n",
    "\"\"\"\n",
    "\n",
    "# Convert into an array of ints\n",
    "base = np.array([[int(number) for number in line.split(\" \")] for line in base.split(\"\\n\") if line != \"\"])"
   ]
  },
  {
   "cell_type": "code",
   "execution_count": 3,
   "metadata": {},
   "outputs": [],
   "source": [
    "def show(image):\n",
    "    # Helper-method to show an image\n",
    "    return plt.imshow(image, cmap=\"gray\", norm=NoNorm())"
   ]
  },
  {
   "cell_type": "markdown",
   "metadata": {},
   "source": [
    "### Implementierung des Faltungsoperators, mit Zero-Padding"
   ]
  },
  {
   "cell_type": "code",
   "execution_count": 4,
   "metadata": {},
   "outputs": [],
   "source": [
    "def convolve(image, kernel):\n",
    "    # Zero-Padding\n",
    "    _image = np.pad(image, ((1, 1), (1, 1)), 'constant')\n",
    "\n",
    "    output_image = np.copy(image)\n",
    "    for (x, y), value in np.ndenumerate(image):\n",
    "        # Cut out the part of the image which we consider for this iteration...\n",
    "        window = _image[x:x+3, y:y+3] # image[x-1:x+2, y-1:y+2] but x=x+1, y=y+1 because of pad\n",
    "        \n",
    "        # ... and multiply it element-wise with the kernel, and sum up everything afterwards.\n",
    "        output_image[x, y] = np.sum(np.multiply(window, kernel))\n",
    "\n",
    "    return output_image"
   ]
  },
  {
   "cell_type": "markdown",
   "metadata": {},
   "source": [
    "### Implementierung der Grauwertspeizung\n",
    "(Quelle: http://home.in.tum.de/~perzylo/Proseminar/Punktoperatoren.pdf)"
   ]
  },
  {
   "cell_type": "code",
   "execution_count": 5,
   "metadata": {
    "scrolled": true
   },
   "outputs": [],
   "source": [
    "def spread_gray_value(image, g_1=None, g_2=None, G=255):\n",
    "    if g_1 is None:\n",
    "        g_1 = np.min(image)\n",
    "    if g_2 is None:\n",
    "        g_2 = np.max(image)\n",
    "\n",
    "    output = np.copy(image)\n",
    "    for (x, y), value in np.ndenumerate(image):\n",
    "        if value < g_1:\n",
    "            output[x, y] = 0\n",
    "        elif value > g_2:\n",
    "            output[x, y] = G - 1\n",
    "        else:\n",
    "            output[x, y] = (G - 1)*(value - g_1)/(g_2 - g_1)\n",
    "    return output"
   ]
  },
  {
   "cell_type": "code",
   "execution_count": 6,
   "metadata": {},
   "outputs": [],
   "source": [
    "base_spread = spread_gray_value(base)"
   ]
  },
  {
   "cell_type": "markdown",
   "metadata": {},
   "source": [
    "# 1) Mittelwertfilter"
   ]
  },
  {
   "cell_type": "code",
   "execution_count": 14,
   "metadata": {},
   "outputs": [
    {
     "data": {
      "text/plain": [
       "(array([[ 5,  2,  6,  2,  3,  2,  1,  2,  3,  1],\n",
       "        [ 1,  3,  6,  7,  9,  2,  4,  4,  7,  1],\n",
       "        [ 1,  5,  8,  8, 10, 17, 21, 19,  9,  4],\n",
       "        [ 4, 18, 34, 56, 17, 25, 38, 17,  7,  2],\n",
       "        [ 1, 14, 22, 43, 68, 91, 62, 23, 16,  7],\n",
       "        [ 6, 12, 21, 21, 39, 87, 76, 34,  4,  2],\n",
       "        [ 9, 24, 54, 73, 88, 95, 69, 16, 12,  5],\n",
       "        [ 3,  5,  6, 40, 34, 42,  6,  4,  2,  5],\n",
       "        [ 4,  9, 16, 14, 32, 51, 13,  6,  6,  2],\n",
       "        [ 4,  2,  5,  3,  3,  3,  5,  3,  3,  3]]),\n",
       " array([[ 1,  2,  2,  3,  2,  2,  1,  2,  2,  1],\n",
       "        [ 1,  4,  5,  6,  6,  7,  8,  7,  5,  2],\n",
       "        [ 3,  8, 16, 17, 16, 15, 16, 14,  7,  3],\n",
       "        [ 4, 11, 23, 29, 37, 38, 34, 23, 11,  5],\n",
       "        [ 6, 14, 26, 35, 49, 55, 50, 30, 12,  4],\n",
       "        [ 7, 18, 31, 47, 67, 75, 61, 34, 13,  5],\n",
       "        [ 6, 15, 28, 41, 57, 59, 47, 24,  9,  3],\n",
       "        [ 6, 14, 26, 39, 52, 47, 33, 14,  6,  3],\n",
       "        [ 3,  6, 11, 17, 24, 21, 14,  5,  3,  2],\n",
       "        [ 2,  4,  5,  8, 11, 11,  9,  4,  2,  1]]))"
      ]
     },
     "execution_count": 14,
     "metadata": {},
     "output_type": "execute_result"
    }
   ],
   "source": [
    "average_kernel = np.ones((3,3)) * 1/9\n",
    "base_averaged = convolve(base, average_kernel)\n",
    "base_averaged_spread = spread_gray_value(base_averaged)\n",
    "\n",
    "base, base_averaged"
   ]
  },
  {
   "cell_type": "markdown",
   "metadata": {},
   "source": [
    "# 2) Sobel-Operatoren"
   ]
  },
  {
   "cell_type": "markdown",
   "metadata": {},
   "source": [
    "### Sobel-Operator in x-Richtung"
   ]
  },
  {
   "cell_type": "code",
   "execution_count": 8,
   "metadata": {},
   "outputs": [
    {
     "data": {
      "text/plain": [
       "(array([[  1,   1,   1,   0,  -1,  -2,   0,   1,  -1,  -3],\n",
       "        [  3,   4,   2,   1,   0,   0,   1,  -1,  -5,  -6],\n",
       "        [  7,  12,  12,  -2,  -4,   9,   0, -13, -12,  -8],\n",
       "        [ 13,  22,  27,   3,  -1,  11, -20, -30, -15,  -9],\n",
       "        [ 14,  21,  26,  23,  32,  11, -49, -48, -19, -10],\n",
       "        [ 15,  24,  24,  29,  50,  12, -63, -61, -22,  -9],\n",
       "        [ 16,  27,  35,  28,  28,  -7, -62, -47, -13,  -7],\n",
       "        [ 10,  15,  31,  26,  15, -23, -50, -18,  -3,  -5],\n",
       "        [  6,   7,  11,  14,  19, -16, -32,  -5,  -1,  -4],\n",
       "        [  3,   3,   1,   3,   9,  -3, -11,  -2,  -1,  -3]]),\n",
       " array([[143, 143, 143, 141, 139, 137, 141, 143, 139, 134],\n",
       "        [148, 150, 146, 143, 141, 141, 143, 139, 130, 128],\n",
       "        [157, 168, 168, 137, 132, 161, 141, 112, 114, 123],\n",
       "        [170, 191, 202, 148, 139, 166,  96,  74, 107, 121],\n",
       "        [173, 188, 200, 193, 213, 166,  31,  33,  98, 119],\n",
       "        [175, 195, 195, 206, 254, 168,   0,   4,  92, 121],\n",
       "        [177, 202, 220, 204, 204, 125,   2,  35, 112, 125],\n",
       "        [164, 175, 211, 200, 175,  89,  29, 101, 134, 130],\n",
       "        [155, 157, 166, 173, 184, 105,  69, 130, 139, 132],\n",
       "        [148, 148, 143, 148, 161, 134, 116, 137, 139, 134]]))"
      ]
     },
     "execution_count": 8,
     "metadata": {},
     "output_type": "execute_result"
    }
   ],
   "source": [
    "S_x = 0.25 * np.array([\n",
    "    [-1, 0, 1],\n",
    "    [-2, 0, 2],\n",
    "    [-1, 0, 1]\n",
    "])\n",
    "\n",
    "x = convolve(base, S_x)\n",
    "x_spread = spread_gray_value(x)\n",
    "x, x_spread"
   ]
  },
  {
   "cell_type": "markdown",
   "metadata": {},
   "source": [
    "### Sobel-Operator in y-Richtung"
   ]
  },
  {
   "cell_type": "code",
   "execution_count": 9,
   "metadata": {
    "scrolled": true
   },
   "outputs": [
    {
     "data": {
      "text/plain": [
       "(array([[ -1,  -3,  -5,  -7,  -6,  -4,  -3,  -4,  -4,  -2],\n",
       "        [  1,  -1,  -3,  -5,  -8, -14, -18, -15,  -8,  -3],\n",
       "        [ -5, -15, -30, -33, -22, -22, -26, -15,  -3,   0],\n",
       "        [ -2,  -8, -18, -35, -56, -61, -40, -14,  -5,  -3],\n",
       "        [  0,   5,  16,  15, -17, -46, -38, -17,  -2,   0],\n",
       "        [ -6, -15, -26, -28, -18,  -8,  -2,   2,   4,   2],\n",
       "        [  3,   8,   4,  -4,   9,  41,  53,  33,   7,  -1],\n",
       "        [  6,  18,  37,  53,  53,  50,  41,  20,   6,   3],\n",
       "        [  0,   1,  10,  26,  34,  27,  10,   0,   0,   0],\n",
       "        [  4,   9,  13,  19,  32,  36,  20,   7,   5,   2]]),\n",
       " array([[133, 129, 124, 120, 122, 127, 129, 127, 127, 131],\n",
       "        [138, 133, 129, 124, 118, 104,  95, 102, 118, 129],\n",
       "        [124, 102,  69,  62,  86,  86,  77, 102, 129, 135],\n",
       "        [131, 118,  95,  57,  11,   0,  46, 104, 124, 129],\n",
       "        [135, 147, 171, 169,  98,  33,  51,  98, 131, 135],\n",
       "        [122, 102,  77,  73,  95, 118, 131, 140, 144, 140],\n",
       "        [142, 153, 144, 127, 155, 227, 254, 209, 151, 133],\n",
       "        [149, 176, 218, 254, 254, 247, 227, 180, 149, 142],\n",
       "        [135, 138, 158, 193, 211, 196, 158, 135, 135, 135],\n",
       "        [144, 155, 164, 178, 207, 216, 180, 151, 147, 140]]))"
      ]
     },
     "execution_count": 9,
     "metadata": {},
     "output_type": "execute_result"
    }
   ],
   "source": [
    "S_y = 0.25 * np.array([\n",
    "    [1, 2, 1],\n",
    "    [0, 0, 0],\n",
    "    [-1, -2, -1]\n",
    "])\n",
    "\n",
    "y = convolve(base, S_y)\n",
    "y_spread = spread_gray_value(y)\n",
    "y, y_spread"
   ]
  },
  {
   "cell_type": "markdown",
   "metadata": {},
   "source": [
    "# 3) Berechnung der Kanten (Sobel-Operator-Max)"
   ]
  },
  {
   "cell_type": "code",
   "execution_count": 10,
   "metadata": {
    "scrolled": true
   },
   "outputs": [
    {
     "data": {
      "text/plain": [
       "(array([[  1,   1,   1,   0,  -1,  -2,   0,   1,  -1,  -2],\n",
       "        [  3,   4,   2,   1,   0,   0,   1,  -1,  -5,  -3],\n",
       "        [  7,  12,  12,  -2,  -4,   9,   0, -13,  -3,   0],\n",
       "        [ 13,  22,  27,   3,  -1,  11, -20, -14,  -5,  -3],\n",
       "        [ 14,  21,  26,  23,  32,  11, -38, -17,  -2,   0],\n",
       "        [ 15,  24,  24,  29,  50,  12,  -2,   2,   4,   2],\n",
       "        [ 16,  27,  35,  28,  28,  41,  53,  33,   7,  -1],\n",
       "        [ 10,  18,  37,  53,  53,  50,  41,  20,   6,   3],\n",
       "        [  6,   7,  11,  26,  34,  27,  10,   0,   0,   0],\n",
       "        [  4,   9,  13,  19,  32,  36,  20,   7,   5,   2]]),\n",
       " array([[108, 108, 108, 106, 103, 100, 106, 108, 103, 100],\n",
       "        [114, 117, 111, 108, 106, 106, 108, 103,  92,  97],\n",
       "        [125, 139, 139, 100,  94, 131, 106,  69,  97, 106],\n",
       "        [142, 167, 181, 114, 103, 136,  50,  66,  92,  97],\n",
       "        [145, 164, 178, 170, 195, 136,   0,  58, 100, 106],\n",
       "        [147, 173, 173, 187, 245, 139, 100, 111, 117, 111],\n",
       "        [150, 181, 203, 184, 184, 220, 254, 198, 125, 103],\n",
       "        [133, 156, 209, 254, 254, 245, 220, 161, 122, 114],\n",
       "        [122, 125, 136, 178, 200, 181, 133, 106, 106, 106],\n",
       "        [117, 131, 142, 159, 195, 206, 161, 125, 120, 111]]))"
      ]
     },
     "execution_count": 10,
     "metadata": {},
     "output_type": "execute_result"
    }
   ],
   "source": [
    "g = np.maximum(x, y)\n",
    "g_spread = spread_gray_value(g)\n",
    "g, g_spread"
   ]
  },
  {
   "cell_type": "markdown",
   "metadata": {},
   "source": [
    "# 4) Darstellungen der einzelnen Schritte"
   ]
  },
  {
   "cell_type": "code",
   "execution_count": 12,
   "metadata": {},
   "outputs": [
    {
     "data": {
      "image/png": "[encoded data removed]",
      "text/plain": [
       "<Figure size 936x648 with 6 Axes>"
      ]
     },
     "metadata": {},
     "output_type": "display_data"
    }
   ],
   "source": [
    "fig = plt.figure(figsize=(13, 9))\n",
    "\n",
    "rows = 2\n",
    "columns = 3\n",
    "\n",
    "in_ = fig.add_subplot(rows, columns, 1)\n",
    "in_.set_title(\"Eingabe\")\n",
    "show(base)\n",
    "\n",
    "in_spread = fig.add_subplot(rows, columns, 2)\n",
    "in_spread.set_title(\"Eingabe nach Grauwertspreizung\")\n",
    "show(base_spread)\n",
    "\n",
    "avg = fig.add_subplot(rows, columns, 3)\n",
    "avg.set_title(\"Mittelwertfilter\")\n",
    "show(base_averaged_spread)\n",
    "\n",
    "x_plt = fig.add_subplot(rows, columns, 4)\n",
    "x_plt.set_title(\"Sobel-Operator in x-Richtung\")\n",
    "show(x_spread)\n",
    "\n",
    "y_plt = fig.add_subplot(rows, columns, 5)\n",
    "y_plt.set_title(\"Sobel-Operator in y-Richtung\")\n",
    "show(y_spread)\n",
    "\n",
    "g_plt = fig.add_subplot(rows, columns, 6)\n",
    "g_plt.set_title(\"Sobel-Operator-Max\")\n",
    "show(g_spread)\n",
    "\n",
    "plt.show()"
   ]
  },
  {
   "cell_type": "code",
   "execution_count": null,
   "metadata": {},
   "outputs": [],
   "source": []
  }
 ],
 "metadata": {
  "kernelspec": {
   "display_name": "Python 3",
   "language": "python",
   "name": "python3"
  },
  "language_info": {
   "codemirror_mode": {
    "name": "ipython",
    "version": 2
   },
   "file_extension": ".py",
   "mimetype": "text/x-python",
   "name": "python",
   "nbconvert_exporter": "python",
   "pygments_lexer": "ipython2",
   "version": "2.7.15"
  }
 },
 "nbformat": 4,
 "nbformat_minor": 2
}
