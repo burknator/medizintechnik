{
 "cells": [
  {
   "cell_type": "code",
   "execution_count": 1,
   "metadata": {},
   "outputs": [],
   "source": [
    "import numpy as np\n",
    "import matplotlib.pyplot as plt\n",
    "from matplotlib.colors import NoNorm"
   ]
  },
  {
   "cell_type": "code",
   "execution_count": 90,
   "metadata": {},
   "outputs": [],
   "source": [
    "# Quelle: https://en.wikipedia.org/wiki/Kernel_(image_processing)#Convolution\n",
    "def convolution(image, kernel):\n",
    "    output = np.copy(image)\n",
    "    # Zero padding\n",
    "    output = np.pad(output, ((1,1), (1,1)), mode='constant')\n",
    "    for i, image_row in enumerate(output):\n",
    "        for k, image_pixel in enumerate(image_row):\n",
    "            acc = 0.0\n",
    "            for n, kernel_row in enumerate(kernel):\n",
    "                for m, kernel_pixel in enumerate(kernel_row):\n",
    "                    if n == 0 and m == 0:\n",
    "                        i_saved = i\n",
    "                        k_saved = k\n",
    "                    \n",
    "                    \n",
    "                    if n == (i - i_saved) and m == (k - k_saved):\n",
    "                        acc += float(kernel_pixel) * float(image_pixel)\n",
    "\n",
    "            output[i][k] = acc\n",
    "\n",
    "    # Shave off the padding\n",
    "    return output[1:-1,1:-1]"
   ]
  },
  {
   "cell_type": "code",
   "execution_count": 4,
   "metadata": {},
   "outputs": [],
   "source": [
    "def convert_string_matrix_to_array(base, type_=float):\n",
    "    return np.array([[type_(number) for number in line.split(\" \")] for line in base.split(\"\\n\") if line != \"\"])"
   ]
  },
  {
   "cell_type": "code",
   "execution_count": 130,
   "metadata": {},
   "outputs": [],
   "source": [
    "def sobel_max(*images):\n",
    "    height = len(images[0])\n",
    "    width = len(images[0][0])\n",
    "    output = np.zeros((height, width), dtype=int)\n",
    "    for i in range(height):\n",
    "        for j in range(width):\n",
    "            output[i][j] = max([image[i][j] for image in images])\n",
    "\n",
    "    return output"
   ]
  },
  {
   "cell_type": "markdown",
   "metadata": {},
   "source": [
    "## Eingabe aus Aufgabe"
   ]
  },
  {
   "cell_type": "code",
   "execution_count": 133,
   "metadata": {},
   "outputs": [],
   "source": [
    "base = convert_string_matrix_to_array(\"\"\"\n",
    "5 2 6 2 3 2 1 2 3 1\n",
    "1 3 6 7 9 2 4 4 7 1\n",
    "1 5 8 8 10 17 21 19 9 4\n",
    "4 18 34 56 17 25 38 17 7 2\n",
    "1 14 22 43 68 91 62 23 16 7\n",
    "6 12 21 21 39 87 76 34 4 2\n",
    "9 24 54 73 88 95 69 16 12 5\n",
    "3 5 6 40 34 42 6 4 2 5\n",
    "4 9 16 14 32 51 13 6 6 2\n",
    "4 2 5 3 3 3 5 3 3 3\n",
    "\"\"\", type_=int)\n",
    "\n",
    "mean_value = np.ones((3,3)) * 1/9\n",
    "\n",
    "sobel_operator_x = convert_string_matrix_to_array(\"\"\"\n",
    "1 0 -1\n",
    "2 0 -2\n",
    "1 0 -1\n",
    "\"\"\") * 1/4\n",
    "\n",
    "sobel_operator_y = convert_string_matrix_to_array(\"\"\"\n",
    "1 2 1\n",
    "0 0 0\n",
    "-1 -2 -1\n",
    "\"\"\") * 1/4\n",
    "\n",
    "sobel_operator_forward_slash = convert_string_matrix_to_array(\"\"\"\n",
    "0 -1 -2\n",
    "1 0 -1\n",
    "2 1 0\n",
    "\"\"\") * 1/4\n",
    "\n",
    "sobel_operator_backward_slash = \"\"\"\n",
    "???\n",
    "\"\"\"\n"
   ]
  },
  {
   "cell_type": "markdown",
   "metadata": {},
   "source": [
    "## Eingabe als Bild"
   ]
  },
  {
   "cell_type": "code",
   "execution_count": 7,
   "metadata": {},
   "outputs": [
    {
     "data": {
      "text/plain": [
       "<matplotlib.image.AxesImage at 0x110fdf710>"
      ]
     },
     "execution_count": 7,
     "metadata": {},
     "output_type": "execute_result"
    },
    {
     "data": {
      "image/png": "[encoded data removed]",
      "text/plain": [
       "<Figure size 432x288 with 1 Axes>"
      ]
     },
     "metadata": {},
     "output_type": "display_data"
    }
   ],
   "source": [
    "plt.imshow(base, cmap=\"gray\", norm=NoNorm())"
   ]
  },
  {
   "cell_type": "markdown",
   "metadata": {},
   "source": [
    "# TODO Grauwertspeizung"
   ]
  },
  {
   "cell_type": "code",
   "execution_count": null,
   "metadata": {},
   "outputs": [],
   "source": [
    "# TODO Grauwertspreizung"
   ]
  },
  {
   "cell_type": "markdown",
   "metadata": {},
   "source": [
    "## Sobel Operator along x-axis"
   ]
  },
  {
   "cell_type": "code",
   "execution_count": 140,
   "metadata": {},
   "outputs": [
    {
     "data": {
      "text/plain": [
       "<matplotlib.image.AxesImage at 0x11210abd0>"
      ]
     },
     "execution_count": 140,
     "metadata": {},
     "output_type": "execute_result"
    },
    {
     "data": {
      "image/png": "[encoded data removed]",
      "text/plain": [
       "<Figure size 432x288 with 1 Axes>"
      ]
     },
     "metadata": {},
     "output_type": "display_data"
    }
   ],
   "source": [
    "x = convolution(base, sobel_operator_x)\n",
    "plt.imshow(x, cmap=\"gray\", norm=NoNorm())"
   ]
  },
  {
   "cell_type": "markdown",
   "metadata": {},
   "source": [
    "## Sobel Operator along y-axis"
   ]
  },
  {
   "cell_type": "code",
   "execution_count": 137,
   "metadata": {},
   "outputs": [
    {
     "data": {
      "text/plain": [
       "<matplotlib.image.AxesImage at 0x111f27750>"
      ]
     },
     "execution_count": 137,
     "metadata": {},
     "output_type": "execute_result"
    },
    {
     "data": {
      "image/png": "[encoded data removed]",
      "text/plain": [
       "<Figure size 432x288 with 1 Axes>"
      ]
     },
     "metadata": {},
     "output_type": "display_data"
    }
   ],
   "source": [
    "y = convolution(base, sobel_operator_y)\n",
    "plt.imshow(y, cmap=\"gray\", norm=NoNorm())"
   ]
  },
  {
   "cell_type": "code",
   "execution_count": 135,
   "metadata": {},
   "outputs": [
    {
     "data": {
      "text/plain": [
       "<matplotlib.image.AxesImage at 0x111ec0510>"
      ]
     },
     "execution_count": 135,
     "metadata": {},
     "output_type": "execute_result"
    },
    {
     "data": {
      "image/png": "[encoded data removed]",
      "text/plain": [
       "<Figure size 432x288 with 1 Axes>"
      ]
     },
     "metadata": {},
     "output_type": "display_data"
    }
   ],
   "source": [
    "forward_slash = convolution(base, sobel_operator_forward_slash)\n",
    "plt.imshow(forward_slash, cmap=\"gray\", norm=NoNorm())"
   ]
  },
  {
   "cell_type": "code",
   "execution_count": 136,
   "metadata": {},
   "outputs": [],
   "source": [
    "#backward_slash = convolution(base, sobel_operator_backward_slash)\n",
    "#plt.imshow(forward_slash, cmap=\"gray\", norm=NoNorm())"
   ]
  },
  {
   "cell_type": "markdown",
   "metadata": {},
   "source": [
    "## Max of all "
   ]
  },
  {
   "cell_type": "code",
   "execution_count": 139,
   "metadata": {},
   "outputs": [
    {
     "data": {
      "text/plain": [
       "<matplotlib.image.AxesImage at 0x1120459d0>"
      ]
     },
     "execution_count": 139,
     "metadata": {},
     "output_type": "execute_result"
    },
    {
     "data": {
      "image/png": "[encoded data removed]",
      "text/plain": [
       "<Figure size 432x288 with 1 Axes>"
      ]
     },
     "metadata": {},
     "output_type": "display_data"
    }
   ],
   "source": [
    "output = sobel_max(x, y, forward_slash)\n",
    "plt.imshow(output, cmap=\"gray\", norm=NoNorm())"
   ]
  },
  {
   "cell_type": "code",
   "execution_count": null,
   "metadata": {},
   "outputs": [],
   "source": []
  }
 ],
 "metadata": {
  "kernelspec": {
   "display_name": "Python 3",
   "language": "python",
   "name": "python3"
  },
  "language_info": {
   "codemirror_mode": {
    "name": "ipython",
    "version": 2
   },
   "file_extension": ".py",
   "mimetype": "text/x-python",
   "name": "python",
   "nbconvert_exporter": "python",
   "pygments_lexer": "ipython2",
   "version": "2.7.15"
  }
 },
 "nbformat": 4,
 "nbformat_minor": 2
}
