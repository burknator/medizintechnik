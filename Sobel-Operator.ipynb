{
 "cells": [
  {
   "cell_type": "code",
   "execution_count": 3,
   "metadata": {},
   "outputs": [],
   "source": [
    "import numpy as np\n",
    "import matplotlib.pyplot as plt\n",
    "from matplotlib.colors import NoNorm"
   ]
  },
  {
   "cell_type": "code",
   "execution_count": 4,
   "metadata": {},
   "outputs": [],
   "source": [
    "base = \"\"\"\n",
    "5 2 6 2 3 2 1 2 3 1\n",
    "1 3 6 7 9 2 4 4 7 1\n",
    "1 5 8 8 10 17 21 19 9 4\n",
    "4 18 34 56 17 25 38 17 7 2\n",
    "1 14 22 43 68 91 62 23 16 7\n",
    "6 12 21 21 39 87 76 34 4 2\n",
    "9 24 54 73 88 95 69 16 12 5\n",
    "3 5 6 40 34 42 6 4 2 5\n",
    "4 9 16 14 32 51 13 6 6 2\n",
    "4 2 5 3 3 3 5 3 3 3\n",
    "\"\"\"\n",
    "\n",
    "S_x = np.array([[-1, 0, 1], [-2, 0, 2], [-1, 0, 1]])*0.25\n",
    "S_y = S_x.T\n",
    "S_fs = np.array([[0, -1, 2], [-1, 0, 1], [2, 1, 0]])*0.25\n"
   ]
  },
  {
   "cell_type": "code",
   "execution_count": 5,
   "metadata": {},
   "outputs": [],
   "source": [
    "base = np.array([[int(number) for number in line.split(\" \")] for line in base.split(\"\\n\") if line != \"\"])"
   ]
  },
  {
   "cell_type": "markdown",
   "metadata": {},
   "source": [
    "# Eingelesenes Bild"
   ]
  },
  {
   "cell_type": "code",
   "execution_count": 6,
   "metadata": {
    "scrolled": false
   },
   "outputs": [
    {
     "data": {
      "text/plain": [
       "<matplotlib.image.AxesImage at 0x10f216a20>"
      ]
     },
     "execution_count": 6,
     "metadata": {},
     "output_type": "execute_result"
    },
    {
     "data": {
      "image/png": "[encoded data removed]",
      "text/plain": [
       "<matplotlib.figure.Figure at 0x10ddd7780>"
      ]
     },
     "metadata": {},
     "output_type": "display_data"
    }
   ],
   "source": [
    "plt.imshow(base, cmap=\"gray\", norm=NoNorm())"
   ]
  },
  {
   "cell_type": "markdown",
   "metadata": {},
   "source": [
    "# Faltungsoperator"
   ]
  },
  {
   "cell_type": "code",
   "execution_count": 7,
   "metadata": {},
   "outputs": [],
   "source": [
    "def convolve(image, kernel):\n",
    "    kernel_size = kernel.shape[0]\n",
    "    _image = np.pad(image, ((kernel_size//2, kernel_size//2), (kernel_size//2, kernel_size//2)), 'constant') # padd with zeros\n",
    "    output_image = np.copy(image)\n",
    "    for (x, y), value in np.ndenumerate(image):\n",
    "        window = _image[x:x+kernel_size, y:y+kernel_size] # image[x-1:x+2, y-1:y+2] but x=x+1, y=y+1 because of pad\n",
    "        output_image[x, y] = np.sum(np.multiply(window, kernel))\n",
    "    return output_image"
   ]
  },
  {
   "cell_type": "markdown",
   "metadata": {},
   "source": [
    "# 1) Mittelwertfilter"
   ]
  },
  {
   "cell_type": "code",
   "execution_count": 8,
   "metadata": {},
   "outputs": [
    {
     "data": {
      "text/plain": [
       "<matplotlib.image.AxesImage at 0x10f2ea908>"
      ]
     },
     "execution_count": 8,
     "metadata": {},
     "output_type": "execute_result"
    },
    {
     "data": {
      "image/png": "[encoded data removed]",
      "text/plain": [
       "<matplotlib.figure.Figure at 0x10f1bc518>"
      ]
     },
     "metadata": {},
     "output_type": "display_data"
    }
   ],
   "source": [
    "average_kernel = np.zeros((3,3)) + 1/9\n",
    "avg = convolve(base, average_kernel)//1\n",
    "plt.imshow(avg, cmap=\"gray\", norm=NoNorm())\n"
   ]
  },
  {
   "cell_type": "markdown",
   "metadata": {},
   "source": [
    "# 2) Sobel-Operator mit Grauwertspeizung (Quelle: http://home.in.tum.de/~perzylo/Proseminar/Punktoperatoren.pdf)"
   ]
  },
  {
   "cell_type": "code",
   "execution_count": 9,
   "metadata": {
    "scrolled": true
   },
   "outputs": [],
   "source": [
    "def scale(image, g_1, g_2, G=255):\n",
    "    output = np.copy(image)\n",
    "    for (x, y), value in np.ndenumerate(image):\n",
    "        if value < g_1:\n",
    "            output[x, y] = 0\n",
    "        elif value > g_2:\n",
    "            output[x, y] = G - 1\n",
    "        else:\n",
    "            output[x, y] = (G - 1)*(value - g_1)/(g_2 - g_1)\n",
    "    return output\n"
   ]
  },
  {
   "cell_type": "markdown",
   "metadata": {},
   "source": [
    "# Eingabebild mit Grauwertspreizung"
   ]
  },
  {
   "cell_type": "code",
   "execution_count": 10,
   "metadata": {},
   "outputs": [
    {
     "data": {
      "text/plain": [
       "<matplotlib.image.AxesImage at 0x10f382748>"
      ]
     },
     "execution_count": 10,
     "metadata": {},
     "output_type": "execute_result"
    },
    {
     "data": {
      "image/png": "[encoded data removed]",
      "text/plain": [
       "<matplotlib.figure.Figure at 0x10f2aea20>"
      ]
     },
     "metadata": {},
     "output_type": "display_data"
    }
   ],
   "source": [
    "scaled = scale(base, np.min(base), np.max(base))\n",
    "plt.imshow(scaled, cmap=\"gray\", norm=NoNorm())"
   ]
  },
  {
   "cell_type": "markdown",
   "metadata": {},
   "source": [
    "# Kanten in x-Richtung"
   ]
  },
  {
   "cell_type": "code",
   "execution_count": 11,
   "metadata": {},
   "outputs": [
    {
     "data": {
      "text/plain": [
       "<matplotlib.image.AxesImage at 0x10f40c7b8>"
      ]
     },
     "execution_count": 11,
     "metadata": {},
     "output_type": "execute_result"
    },
    {
     "data": {
      "image/png": "[encoded data removed]",
      "text/plain": [
       "<matplotlib.figure.Figure at 0x10f342a20>"
      ]
     },
     "metadata": {},
     "output_type": "display_data"
    }
   ],
   "source": [
    "x = convolve(base, S_x)\n",
    "plt.imshow(scale(x, np.min(x), np.max(x)), cmap=\"gray\", norm=NoNorm())"
   ]
  },
  {
   "cell_type": "markdown",
   "metadata": {},
   "source": [
    "# Kanten in y-Richtung"
   ]
  },
  {
   "cell_type": "code",
   "execution_count": 12,
   "metadata": {
    "scrolled": true
   },
   "outputs": [
    {
     "data": {
      "text/plain": [
       "<matplotlib.image.AxesImage at 0x10f4db0b8>"
      ]
     },
     "execution_count": 12,
     "metadata": {},
     "output_type": "execute_result"
    },
    {
     "data": {
      "image/png": "[encoded data removed]",
      "text/plain": [
       "<matplotlib.figure.Figure at 0x10f3ca978>"
      ]
     },
     "metadata": {},
     "output_type": "display_data"
    }
   ],
   "source": [
    "y = convolve(base, S_y)\n",
    "plt.imshow(scale(y, np.min(y), np.max(y)), cmap=\"gray\", norm=NoNorm())"
   ]
  },
  {
   "cell_type": "markdown",
   "metadata": {},
   "source": [
    "# Ermittelte Kanten"
   ]
  },
  {
   "cell_type": "code",
   "execution_count": 15,
   "metadata": {
    "scrolled": true
   },
   "outputs": [
    {
     "data": {
      "text/plain": [
       "<matplotlib.image.AxesImage at 0x10f744358>"
      ]
     },
     "execution_count": 15,
     "metadata": {},
     "output_type": "execute_result"
    },
    {
     "data": {
      "image/png": "[encoded data removed]",
      "text/plain": [
       "<matplotlib.figure.Figure at 0x10f5e3c50>"
      ]
     },
     "metadata": {},
     "output_type": "display_data"
    }
   ],
   "source": [
    "g = np.minimum(x, y)\n",
    "plt.imshow(scale(g, np.min(g), np.max(g)), cmap=\"gray\", norm=NoNorm())"
   ]
  },
  {
   "cell_type": "code",
   "execution_count": 20,
   "metadata": {},
   "outputs": [],
   "source": [
    "#import cv2\n",
    "#base = cv2.imread(\"input.ppm\", 0)\n",
    "#plt.imshow(base, cmap=\"gray\", norm=NoNorm())"
   ]
  }
 ],
 "metadata": {
  "kernelspec": {
   "display_name": "Python 3",
   "language": "python",
   "name": "python3"
  },
  "language_info": {
   "codemirror_mode": {
    "name": "ipython",
    "version": 3
   },
   "file_extension": ".py",
   "mimetype": "text/x-python",
   "name": "python",
   "nbconvert_exporter": "python",
   "pygments_lexer": "ipython3",
   "version": "3.6.5"
  }
 },
 "nbformat": 4,
 "nbformat_minor": 2
}
