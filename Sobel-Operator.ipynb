{
 "cells": [
  {
   "cell_type": "code",
   "execution_count": 1,
   "metadata": {},
   "outputs": [],
   "source": [
    "import numpy as np\n",
    "import matplotlib.pyplot as plt\n",
    "from matplotlib.colors import NoNorm\n",
    "from visual_convolution import stepped_convolution, visual_convolution, show_matrix"
   ]
  },
  {
   "cell_type": "code",
   "execution_count": 2,
   "metadata": {},
   "outputs": [],
   "source": [
    "base = \"\"\"\n",
    "5 2 6 2 3 2 1 2 3 1\n",
    "1 3 6 7 9 2 4 4 7 1\n",
    "1 5 8 8 10 17 21 19 9 4\n",
    "4 18 34 56 17 25 38 17 7 2\n",
    "1 14 22 43 68 91 62 23 16 7\n",
    "6 12 21 21 39 87 76 34 4 2\n",
    "9 24 54 73 88 95 69 16 12 5\n",
    "3 5 6 40 34 42 6 4 2 5\n",
    "4 9 16 14 32 51 13 6 6 2\n",
    "4 2 5 3 3 3 5 3 3 3\n",
    "\"\"\"\n",
    "\n",
    "# Convert into an array of ints\n",
    "base = np.array([[int(number) for number in line.split(\" \")] for line in base.split(\"\\n\") if line != \"\"])"
   ]
  },
  {
   "cell_type": "code",
   "execution_count": 3,
   "metadata": {},
   "outputs": [],
   "source": [
    "def show(image):\n",
    "    # Helper-method to show an image\n",
    "    return plt.imshow(image, cmap=\"gray\", norm=NoNorm())"
   ]
  },
  {
   "cell_type": "markdown",
   "metadata": {},
   "source": [
    "### Implementierung des Faltungsoperators, mit Zero-Padding"
   ]
  },
  {
   "cell_type": "code",
   "execution_count": 4,
   "metadata": {},
   "outputs": [],
   "source": [
    "def convolve(image, kernel):\n",
    "    # Zero-Padding\n",
    "    _image = np.pad(image, ((1, 1), (1, 1)), 'constant')\n",
    "\n",
    "    output_image = np.copy(image)\n",
    "    for (x, y), value in np.ndenumerate(image):\n",
    "        # Cut out the part of the image which we consider for this iteration...\n",
    "        window = _image[x:x+3, y:y+3] # image[x-1:x+2, y-1:y+2] but x=x+1, y=y+1 because of pad\n",
    "        \n",
    "        # ... and multiply it element-wise with the kernel, and sum up everything afterwards.\n",
    "        output_image[x, y] = np.sum(np.multiply(window, kernel))\n",
    "\n",
    "    return output_image"
   ]
  },
  {
   "cell_type": "markdown",
   "metadata": {},
   "source": [
    "### Implementierung der Grauwertspeizung\n",
    "(Quelle: http://home.in.tum.de/~perzylo/Proseminar/Punktoperatoren.pdf)"
   ]
  },
  {
   "cell_type": "code",
   "execution_count": 5,
   "metadata": {
    "scrolled": true
   },
   "outputs": [],
   "source": [
    "def spread_gray_value(image, g_1=None, g_2=None, G=255):\n",
    "    if g_1 is None:\n",
    "        g_1 = np.min(image)\n",
    "    if g_2 is None:\n",
    "        g_2 = np.max(image)\n",
    "\n",
    "    output = np.copy(image)\n",
    "    for (x, y), value in np.ndenumerate(image):\n",
    "        if value < g_1:\n",
    "            output[x, y] = 0\n",
    "        elif value > g_2:\n",
    "            output[x, y] = G - 1\n",
    "        else:\n",
    "            output[x, y] = (G - 1)*(value - g_1)/(g_2 - g_1)\n",
    "    return output"
   ]
  },
  {
   "cell_type": "code",
   "execution_count": 6,
   "metadata": {},
   "outputs": [],
   "source": [
    "base_spread = spread_gray_value(base)"
   ]
  },
  {
   "cell_type": "markdown",
   "metadata": {},
   "source": [
    "# 1) Mittelwertfilter"
   ]
  },
  {
   "cell_type": "code",
   "execution_count": 7,
   "metadata": {},
   "outputs": [
    {
     "data": {
      "text/latex": [
       "\\[\\scriptstyle \\def\\g{\\color{lightgray}}\\left(\\begin{array}{rrrrrrrrrrrr}0\\cdot 0.11 & 0\\cdot 0.11 & 0\\cdot 0.11 & \\g{0} & \\g{0} & \\g{0} & \\g{0} & \\g{0} & \\g{0} & \\g{0} & \\g{0} & \\g{0}\\\\0\\cdot 0.11 & 5\\cdot 0.11 & 2\\cdot 0.11 & \\g{6} & \\g{2} & \\g{3} & \\g{2} & \\g{1} & \\g{2} & \\g{3} & \\g{1} & \\g{0}\\\\0\\cdot 0.11 & 1\\cdot 0.11 & 3\\cdot 0.11 & \\g{6} & \\g{7} & \\g{9} & \\g{2} & \\g{4} & \\g{4} & \\g{7} & \\g{1} & \\g{0}\\\\\\g{0} & \\g{1} & \\g{5} & \\g{8} & \\g{8} & \\g{10} & \\g{17} & \\g{21} & \\g{19} & \\g{9} & \\g{4} & \\g{0}\\\\\\g{0} & \\g{4} & \\g{18} & \\g{34} & \\g{56} & \\g{17} & \\g{25} & \\g{38} & \\g{17} & \\g{7} & \\g{2} & \\g{0}\\\\\\g{0} & \\g{1} & \\g{14} & \\g{22} & \\g{43} & \\g{68} & \\g{91} & \\g{62} & \\g{23} & \\g{16} & \\g{7} & \\g{0}\\\\\\g{0} & \\g{6} & \\g{12} & \\g{21} & \\g{21} & \\g{39} & \\g{87} & \\g{76} & \\g{34} & \\g{4} & \\g{2} & \\g{0}\\\\\\g{0} & \\g{9} & \\g{24} & \\g{54} & \\g{73} & \\g{88} & \\g{95} & \\g{69} & \\g{16} & \\g{12} & \\g{5} & \\g{0}\\\\\\g{0} & \\g{3} & \\g{5} & \\g{6} & \\g{40} & \\g{34} & \\g{42} & \\g{6} & \\g{4} & \\g{2} & \\g{5} & \\g{0}\\\\\\g{0} & \\g{4} & \\g{9} & \\g{16} & \\g{14} & \\g{32} & \\g{51} & \\g{13} & \\g{6} & \\g{6} & \\g{2} & \\g{0}\\\\\\g{0} & \\g{4} & \\g{2} & \\g{5} & \\g{3} & \\g{3} & \\g{3} & \\g{5} & \\g{3} & \\g{3} & \\g{3} & \\g{0}\\\\\\g{0} & \\g{0} & \\g{0} & \\g{0} & \\g{0} & \\g{0} & \\g{0} & \\g{0} & \\g{0} & \\g{0} & \\g{0} & \\g{0}\\end{array}\\right)=\\left(\\begin{array}{rrrrrrrrrrrr}1 & \\g{2} & \\g{6} & \\g{2} & \\g{3} & \\g{2} & \\g{1} & \\g{2} & \\g{3} & \\g{1}\\\\\\g{1} & \\g{3} & \\g{6} & \\g{7} & \\g{9} & \\g{2} & \\g{4} & \\g{4} & \\g{7} & \\g{1}\\\\\\g{1} & \\g{5} & \\g{8} & \\g{8} & \\g{10} & \\g{17} & \\g{21} & \\g{19} & \\g{9} & \\g{4}\\\\\\g{4} & \\g{18} & \\g{34} & \\g{56} & \\g{17} & \\g{25} & \\g{38} & \\g{17} & \\g{7} & \\g{2}\\\\\\g{1} & \\g{14} & \\g{22} & \\g{43} & \\g{68} & \\g{91} & \\g{62} & \\g{23} & \\g{16} & \\g{7}\\\\\\g{6} & \\g{12} & \\g{21} & \\g{21} & \\g{39} & \\g{87} & \\g{76} & \\g{34} & \\g{4} & \\g{2}\\\\\\g{9} & \\g{24} & \\g{54} & \\g{73} & \\g{88} & \\g{95} & \\g{69} & \\g{16} & \\g{12} & \\g{5}\\\\\\g{3} & \\g{5} & \\g{6} & \\g{40} & \\g{34} & \\g{42} & \\g{6} & \\g{4} & \\g{2} & \\g{5}\\\\\\g{4} & \\g{9} & \\g{16} & \\g{14} & \\g{32} & \\g{51} & \\g{13} & \\g{6} & \\g{6} & \\g{2}\\\\\\g{4} & \\g{2} & \\g{5} & \\g{3} & \\g{3} & \\g{3} & \\g{5} & \\g{3} & \\g{3} & \\g{3}\\end{array}\\right)\\]"
      ],
      "text/plain": [
       "<IPython.core.display.Latex object>"
      ]
     },
     "metadata": {},
     "output_type": "display_data"
    },
    {
     "data": {
      "text/latex": [
       "\\[\\scriptstyle \\def\\g{\\color{lightgray}}\\left(\\begin{array}{rrrrrrrrrrrr}\\g{0} & 0\\cdot 0.11 & 0\\cdot 0.11 & 0\\cdot 0.11 & \\g{0} & \\g{0} & \\g{0} & \\g{0} & \\g{0} & \\g{0} & \\g{0} & \\g{0}\\\\\\g{0} & 5\\cdot 0.11 & 2\\cdot 0.11 & 6\\cdot 0.11 & \\g{2} & \\g{3} & \\g{2} & \\g{1} & \\g{2} & \\g{3} & \\g{1} & \\g{0}\\\\\\g{0} & 1\\cdot 0.11 & 3\\cdot 0.11 & 6\\cdot 0.11 & \\g{7} & \\g{9} & \\g{2} & \\g{4} & \\g{4} & \\g{7} & \\g{1} & \\g{0}\\\\\\g{0} & \\g{1} & \\g{5} & \\g{8} & \\g{8} & \\g{10} & \\g{17} & \\g{21} & \\g{19} & \\g{9} & \\g{4} & \\g{0}\\\\\\g{0} & \\g{4} & \\g{18} & \\g{34} & \\g{56} & \\g{17} & \\g{25} & \\g{38} & \\g{17} & \\g{7} & \\g{2} & \\g{0}\\\\\\g{0} & \\g{1} & \\g{14} & \\g{22} & \\g{43} & \\g{68} & \\g{91} & \\g{62} & \\g{23} & \\g{16} & \\g{7} & \\g{0}\\\\\\g{0} & \\g{6} & \\g{12} & \\g{21} & \\g{21} & \\g{39} & \\g{87} & \\g{76} & \\g{34} & \\g{4} & \\g{2} & \\g{0}\\\\\\g{0} & \\g{9} & \\g{24} & \\g{54} & \\g{73} & \\g{88} & \\g{95} & \\g{69} & \\g{16} & \\g{12} & \\g{5} & \\g{0}\\\\\\g{0} & \\g{3} & \\g{5} & \\g{6} & \\g{40} & \\g{34} & \\g{42} & \\g{6} & \\g{4} & \\g{2} & \\g{5} & \\g{0}\\\\\\g{0} & \\g{4} & \\g{9} & \\g{16} & \\g{14} & \\g{32} & \\g{51} & \\g{13} & \\g{6} & \\g{6} & \\g{2} & \\g{0}\\\\\\g{0} & \\g{4} & \\g{2} & \\g{5} & \\g{3} & \\g{3} & \\g{3} & \\g{5} & \\g{3} & \\g{3} & \\g{3} & \\g{0}\\\\\\g{0} & \\g{0} & \\g{0} & \\g{0} & \\g{0} & \\g{0} & \\g{0} & \\g{0} & \\g{0} & \\g{0} & \\g{0} & \\g{0}\\end{array}\\right)=\\left(\\begin{array}{rrrrrrrrrrrr}\\g{1} & 2 & \\g{6} & \\g{2} & \\g{3} & \\g{2} & \\g{1} & \\g{2} & \\g{3} & \\g{1}\\\\\\g{1} & \\g{3} & \\g{6} & \\g{7} & \\g{9} & \\g{2} & \\g{4} & \\g{4} & \\g{7} & \\g{1}\\\\\\g{1} & \\g{5} & \\g{8} & \\g{8} & \\g{10} & \\g{17} & \\g{21} & \\g{19} & \\g{9} & \\g{4}\\\\\\g{4} & \\g{18} & \\g{34} & \\g{56} & \\g{17} & \\g{25} & \\g{38} & \\g{17} & \\g{7} & \\g{2}\\\\\\g{1} & \\g{14} & \\g{22} & \\g{43} & \\g{68} & \\g{91} & \\g{62} & \\g{23} & \\g{16} & \\g{7}\\\\\\g{6} & \\g{12} & \\g{21} & \\g{21} & \\g{39} & \\g{87} & \\g{76} & \\g{34} & \\g{4} & \\g{2}\\\\\\g{9} & \\g{24} & \\g{54} & \\g{73} & \\g{88} & \\g{95} & \\g{69} & \\g{16} & \\g{12} & \\g{5}\\\\\\g{3} & \\g{5} & \\g{6} & \\g{40} & \\g{34} & \\g{42} & \\g{6} & \\g{4} & \\g{2} & \\g{5}\\\\\\g{4} & \\g{9} & \\g{16} & \\g{14} & \\g{32} & \\g{51} & \\g{13} & \\g{6} & \\g{6} & \\g{2}\\\\\\g{4} & \\g{2} & \\g{5} & \\g{3} & \\g{3} & \\g{3} & \\g{5} & \\g{3} & \\g{3} & \\g{3}\\end{array}\\right)\\]"
      ],
      "text/plain": [
       "<IPython.core.display.Latex object>"
      ]
     },
     "metadata": {},
     "output_type": "display_data"
    },
    {
     "data": {
      "text/latex": [
       "\\[\\scriptstyle \\def\\g{\\color{lightgray}}\\left(\\begin{array}{rrrrrrrrrrrr}\\g{0} & \\g{0} & 0\\cdot 0.11 & 0\\cdot 0.11 & 0\\cdot 0.11 & \\g{0} & \\g{0} & \\g{0} & \\g{0} & \\g{0} & \\g{0} & \\g{0}\\\\\\g{0} & \\g{5} & 2\\cdot 0.11 & 6\\cdot 0.11 & 2\\cdot 0.11 & \\g{3} & \\g{2} & \\g{1} & \\g{2} & \\g{3} & \\g{1} & \\g{0}\\\\\\g{0} & \\g{1} & 3\\cdot 0.11 & 6\\cdot 0.11 & 7\\cdot 0.11 & \\g{9} & \\g{2} & \\g{4} & \\g{4} & \\g{7} & \\g{1} & \\g{0}\\\\\\g{0} & \\g{1} & \\g{5} & \\g{8} & \\g{8} & \\g{10} & \\g{17} & \\g{21} & \\g{19} & \\g{9} & \\g{4} & \\g{0}\\\\\\g{0} & \\g{4} & \\g{18} & \\g{34} & \\g{56} & \\g{17} & \\g{25} & \\g{38} & \\g{17} & \\g{7} & \\g{2} & \\g{0}\\\\\\g{0} & \\g{1} & \\g{14} & \\g{22} & \\g{43} & \\g{68} & \\g{91} & \\g{62} & \\g{23} & \\g{16} & \\g{7} & \\g{0}\\\\\\g{0} & \\g{6} & \\g{12} & \\g{21} & \\g{21} & \\g{39} & \\g{87} & \\g{76} & \\g{34} & \\g{4} & \\g{2} & \\g{0}\\\\\\g{0} & \\g{9} & \\g{24} & \\g{54} & \\g{73} & \\g{88} & \\g{95} & \\g{69} & \\g{16} & \\g{12} & \\g{5} & \\g{0}\\\\\\g{0} & \\g{3} & \\g{5} & \\g{6} & \\g{40} & \\g{34} & \\g{42} & \\g{6} & \\g{4} & \\g{2} & \\g{5} & \\g{0}\\\\\\g{0} & \\g{4} & \\g{9} & \\g{16} & \\g{14} & \\g{32} & \\g{51} & \\g{13} & \\g{6} & \\g{6} & \\g{2} & \\g{0}\\\\\\g{0} & \\g{4} & \\g{2} & \\g{5} & \\g{3} & \\g{3} & \\g{3} & \\g{5} & \\g{3} & \\g{3} & \\g{3} & \\g{0}\\\\\\g{0} & \\g{0} & \\g{0} & \\g{0} & \\g{0} & \\g{0} & \\g{0} & \\g{0} & \\g{0} & \\g{0} & \\g{0} & \\g{0}\\end{array}\\right)=\\left(\\begin{array}{rrrrrrrrrrrr}\\g{1} & \\g{2} & 2 & \\g{2} & \\g{3} & \\g{2} & \\g{1} & \\g{2} & \\g{3} & \\g{1}\\\\\\g{1} & \\g{3} & \\g{6} & \\g{7} & \\g{9} & \\g{2} & \\g{4} & \\g{4} & \\g{7} & \\g{1}\\\\\\g{1} & \\g{5} & \\g{8} & \\g{8} & \\g{10} & \\g{17} & \\g{21} & \\g{19} & \\g{9} & \\g{4}\\\\\\g{4} & \\g{18} & \\g{34} & \\g{56} & \\g{17} & \\g{25} & \\g{38} & \\g{17} & \\g{7} & \\g{2}\\\\\\g{1} & \\g{14} & \\g{22} & \\g{43} & \\g{68} & \\g{91} & \\g{62} & \\g{23} & \\g{16} & \\g{7}\\\\\\g{6} & \\g{12} & \\g{21} & \\g{21} & \\g{39} & \\g{87} & \\g{76} & \\g{34} & \\g{4} & \\g{2}\\\\\\g{9} & \\g{24} & \\g{54} & \\g{73} & \\g{88} & \\g{95} & \\g{69} & \\g{16} & \\g{12} & \\g{5}\\\\\\g{3} & \\g{5} & \\g{6} & \\g{40} & \\g{34} & \\g{42} & \\g{6} & \\g{4} & \\g{2} & \\g{5}\\\\\\g{4} & \\g{9} & \\g{16} & \\g{14} & \\g{32} & \\g{51} & \\g{13} & \\g{6} & \\g{6} & \\g{2}\\\\\\g{4} & \\g{2} & \\g{5} & \\g{3} & \\g{3} & \\g{3} & \\g{5} & \\g{3} & \\g{3} & \\g{3}\\end{array}\\right)\\]"
      ],
      "text/plain": [
       "<IPython.core.display.Latex object>"
      ]
     },
     "metadata": {},
     "output_type": "display_data"
    },
    {
     "data": {
      "text/latex": [
       "\\[\\scriptstyle base\\_averaged =  \\def\\g{\\color{lightgray}}\\left(\\begin{array}{rrrrrrrrrr}1 & 2 & 2 & 3 & 2 & 2 & 1 & 2 & 2 & 1\\\\1 & 4 & 5 & 6 & 6 & 7 & 8 & 7 & 5 & 2\\\\3 & 8 & 16 & 17 & 16 & 15 & 16 & 14 & 7 & 3\\\\4 & 11 & 23 & 29 & 37 & 38 & 34 & 23 & 11 & 5\\\\6 & 14 & 26 & 35 & 49 & 55 & 50 & 30 & 12 & 4\\\\7 & 18 & 31 & 47 & 67 & 75 & 61 & 34 & 13 & 5\\\\6 & 15 & 28 & 41 & 57 & 59 & 47 & 24 & 9 & 3\\\\6 & 14 & 26 & 39 & 52 & 47 & 33 & 14 & 6 & 3\\\\3 & 6 & 11 & 17 & 24 & 21 & 14 & 5 & 3 & 2\\\\2 & 4 & 5 & 8 & 11 & 11 & 9 & 4 & 2 & 1\\end{array}\\right)\\]"
      ],
      "text/plain": [
       "<IPython.core.display.Latex object>"
      ]
     },
     "metadata": {},
     "output_type": "display_data"
    },
    {
     "data": {
      "text/latex": [
       "\\[\\scriptstyle base\\_averaged\\_spread =  \\def\\g{\\color{lightgray}}\\left(\\begin{array}{rrrrrrrrrr}0 & 3 & 3 & 6 & 3 & 3 & 0 & 3 & 3 & 0\\\\0 & 10 & 13 & 17 & 17 & 20 & 24 & 20 & 13 & 3\\\\6 & 24 & 51 & 54 & 51 & 48 & 51 & 44 & 20 & 6\\\\10 & 34 & 75 & 96 & 123 & 127 & 113 & 75 & 34 & 13\\\\17 & 44 & 85 & 116 & 164 & 185 & 168 & 99 & 37 & 10\\\\20 & 58 & 102 & 157 & 226 & 254 & 205 & 113 & 41 & 13\\\\17 & 48 & 92 & 137 & 192 & 199 & 157 & 78 & 27 & 6\\\\17 & 44 & 85 & 130 & 175 & 157 & 109 & 44 & 17 & 6\\\\6 & 17 & 34 & 54 & 78 & 68 & 44 & 13 & 6 & 3\\\\3 & 10 & 13 & 24 & 34 & 34 & 27 & 10 & 3 & 0\\end{array}\\right)\\]"
      ],
      "text/plain": [
       "<IPython.core.display.Latex object>"
      ]
     },
     "metadata": {},
     "output_type": "display_data"
    },
    {
     "data": {
      "image/png": "[encoded data removed]",
      "text/plain": [
       "<matplotlib.figure.Figure at 0x10dbc2940>"
      ]
     },
     "metadata": {},
     "output_type": "display_data"
    }
   ],
   "source": [
    "average_kernel = np.ones((3,3)) * 1/9\n",
    "base_averaged = convolve(base, average_kernel)\n",
    "base_averaged_spread = spread_gray_value(base_averaged)\n",
    "\n",
    "stepped_convolution(base, average_kernel)\n",
    "show_matrix(base_averaged, title='base_averaged')\n",
    "show_matrix(base_averaged_spread, title='base_averaged_spread')"
   ]
  },
  {
   "cell_type": "markdown",
   "metadata": {},
   "source": [
    "# 2) Sobel-Operatoren"
   ]
  },
  {
   "cell_type": "markdown",
   "metadata": {},
   "source": [
    "### Sobel-Operator in x-Richtung"
   ]
  },
  {
   "cell_type": "code",
   "execution_count": 8,
   "metadata": {},
   "outputs": [
    {
     "data": {
      "text/latex": [
       "\\[\\scriptstyle \\def\\g{\\color{lightgray}}\\left(\\begin{array}{rrrrrrrrrrrr}0\\cdot -0.25 & 0\\cdot 0.00 & 0\\cdot 0.25 & \\g{0} & \\g{0} & \\g{0} & \\g{0} & \\g{0} & \\g{0} & \\g{0} & \\g{0} & \\g{0}\\\\0\\cdot -0.50 & 5\\cdot 0.00 & 2\\cdot 0.50 & \\g{6} & \\g{2} & \\g{3} & \\g{2} & \\g{1} & \\g{2} & \\g{3} & \\g{1} & \\g{0}\\\\0\\cdot -0.25 & 1\\cdot 0.00 & 3\\cdot 0.25 & \\g{6} & \\g{7} & \\g{9} & \\g{2} & \\g{4} & \\g{4} & \\g{7} & \\g{1} & \\g{0}\\\\\\g{0} & \\g{1} & \\g{5} & \\g{8} & \\g{8} & \\g{10} & \\g{17} & \\g{21} & \\g{19} & \\g{9} & \\g{4} & \\g{0}\\\\\\g{0} & \\g{4} & \\g{18} & \\g{34} & \\g{56} & \\g{17} & \\g{25} & \\g{38} & \\g{17} & \\g{7} & \\g{2} & \\g{0}\\\\\\g{0} & \\g{1} & \\g{14} & \\g{22} & \\g{43} & \\g{68} & \\g{91} & \\g{62} & \\g{23} & \\g{16} & \\g{7} & \\g{0}\\\\\\g{0} & \\g{6} & \\g{12} & \\g{21} & \\g{21} & \\g{39} & \\g{87} & \\g{76} & \\g{34} & \\g{4} & \\g{2} & \\g{0}\\\\\\g{0} & \\g{9} & \\g{24} & \\g{54} & \\g{73} & \\g{88} & \\g{95} & \\g{69} & \\g{16} & \\g{12} & \\g{5} & \\g{0}\\\\\\g{0} & \\g{3} & \\g{5} & \\g{6} & \\g{40} & \\g{34} & \\g{42} & \\g{6} & \\g{4} & \\g{2} & \\g{5} & \\g{0}\\\\\\g{0} & \\g{4} & \\g{9} & \\g{16} & \\g{14} & \\g{32} & \\g{51} & \\g{13} & \\g{6} & \\g{6} & \\g{2} & \\g{0}\\\\\\g{0} & \\g{4} & \\g{2} & \\g{5} & \\g{3} & \\g{3} & \\g{3} & \\g{5} & \\g{3} & \\g{3} & \\g{3} & \\g{0}\\\\\\g{0} & \\g{0} & \\g{0} & \\g{0} & \\g{0} & \\g{0} & \\g{0} & \\g{0} & \\g{0} & \\g{0} & \\g{0} & \\g{0}\\end{array}\\right)=\\left(\\begin{array}{rrrrrrrrrrrr}1 & \\g{2} & \\g{6} & \\g{2} & \\g{3} & \\g{2} & \\g{1} & \\g{2} & \\g{3} & \\g{1}\\\\\\g{1} & \\g{3} & \\g{6} & \\g{7} & \\g{9} & \\g{2} & \\g{4} & \\g{4} & \\g{7} & \\g{1}\\\\\\g{1} & \\g{5} & \\g{8} & \\g{8} & \\g{10} & \\g{17} & \\g{21} & \\g{19} & \\g{9} & \\g{4}\\\\\\g{4} & \\g{18} & \\g{34} & \\g{56} & \\g{17} & \\g{25} & \\g{38} & \\g{17} & \\g{7} & \\g{2}\\\\\\g{1} & \\g{14} & \\g{22} & \\g{43} & \\g{68} & \\g{91} & \\g{62} & \\g{23} & \\g{16} & \\g{7}\\\\\\g{6} & \\g{12} & \\g{21} & \\g{21} & \\g{39} & \\g{87} & \\g{76} & \\g{34} & \\g{4} & \\g{2}\\\\\\g{9} & \\g{24} & \\g{54} & \\g{73} & \\g{88} & \\g{95} & \\g{69} & \\g{16} & \\g{12} & \\g{5}\\\\\\g{3} & \\g{5} & \\g{6} & \\g{40} & \\g{34} & \\g{42} & \\g{6} & \\g{4} & \\g{2} & \\g{5}\\\\\\g{4} & \\g{9} & \\g{16} & \\g{14} & \\g{32} & \\g{51} & \\g{13} & \\g{6} & \\g{6} & \\g{2}\\\\\\g{4} & \\g{2} & \\g{5} & \\g{3} & \\g{3} & \\g{3} & \\g{5} & \\g{3} & \\g{3} & \\g{3}\\end{array}\\right)\\]"
      ],
      "text/plain": [
       "<IPython.core.display.Latex object>"
      ]
     },
     "metadata": {},
     "output_type": "display_data"
    },
    {
     "data": {
      "text/latex": [
       "\\[\\scriptstyle \\def\\g{\\color{lightgray}}\\left(\\begin{array}{rrrrrrrrrrrr}\\g{0} & 0\\cdot -0.25 & 0\\cdot 0.00 & 0\\cdot 0.25 & \\g{0} & \\g{0} & \\g{0} & \\g{0} & \\g{0} & \\g{0} & \\g{0} & \\g{0}\\\\\\g{0} & 5\\cdot -0.50 & 2\\cdot 0.00 & 6\\cdot 0.50 & \\g{2} & \\g{3} & \\g{2} & \\g{1} & \\g{2} & \\g{3} & \\g{1} & \\g{0}\\\\\\g{0} & 1\\cdot -0.25 & 3\\cdot 0.00 & 6\\cdot 0.25 & \\g{7} & \\g{9} & \\g{2} & \\g{4} & \\g{4} & \\g{7} & \\g{1} & \\g{0}\\\\\\g{0} & \\g{1} & \\g{5} & \\g{8} & \\g{8} & \\g{10} & \\g{17} & \\g{21} & \\g{19} & \\g{9} & \\g{4} & \\g{0}\\\\\\g{0} & \\g{4} & \\g{18} & \\g{34} & \\g{56} & \\g{17} & \\g{25} & \\g{38} & \\g{17} & \\g{7} & \\g{2} & \\g{0}\\\\\\g{0} & \\g{1} & \\g{14} & \\g{22} & \\g{43} & \\g{68} & \\g{91} & \\g{62} & \\g{23} & \\g{16} & \\g{7} & \\g{0}\\\\\\g{0} & \\g{6} & \\g{12} & \\g{21} & \\g{21} & \\g{39} & \\g{87} & \\g{76} & \\g{34} & \\g{4} & \\g{2} & \\g{0}\\\\\\g{0} & \\g{9} & \\g{24} & \\g{54} & \\g{73} & \\g{88} & \\g{95} & \\g{69} & \\g{16} & \\g{12} & \\g{5} & \\g{0}\\\\\\g{0} & \\g{3} & \\g{5} & \\g{6} & \\g{40} & \\g{34} & \\g{42} & \\g{6} & \\g{4} & \\g{2} & \\g{5} & \\g{0}\\\\\\g{0} & \\g{4} & \\g{9} & \\g{16} & \\g{14} & \\g{32} & \\g{51} & \\g{13} & \\g{6} & \\g{6} & \\g{2} & \\g{0}\\\\\\g{0} & \\g{4} & \\g{2} & \\g{5} & \\g{3} & \\g{3} & \\g{3} & \\g{5} & \\g{3} & \\g{3} & \\g{3} & \\g{0}\\\\\\g{0} & \\g{0} & \\g{0} & \\g{0} & \\g{0} & \\g{0} & \\g{0} & \\g{0} & \\g{0} & \\g{0} & \\g{0} & \\g{0}\\end{array}\\right)=\\left(\\begin{array}{rrrrrrrrrrrr}\\g{1} & 1 & \\g{6} & \\g{2} & \\g{3} & \\g{2} & \\g{1} & \\g{2} & \\g{3} & \\g{1}\\\\\\g{1} & \\g{3} & \\g{6} & \\g{7} & \\g{9} & \\g{2} & \\g{4} & \\g{4} & \\g{7} & \\g{1}\\\\\\g{1} & \\g{5} & \\g{8} & \\g{8} & \\g{10} & \\g{17} & \\g{21} & \\g{19} & \\g{9} & \\g{4}\\\\\\g{4} & \\g{18} & \\g{34} & \\g{56} & \\g{17} & \\g{25} & \\g{38} & \\g{17} & \\g{7} & \\g{2}\\\\\\g{1} & \\g{14} & \\g{22} & \\g{43} & \\g{68} & \\g{91} & \\g{62} & \\g{23} & \\g{16} & \\g{7}\\\\\\g{6} & \\g{12} & \\g{21} & \\g{21} & \\g{39} & \\g{87} & \\g{76} & \\g{34} & \\g{4} & \\g{2}\\\\\\g{9} & \\g{24} & \\g{54} & \\g{73} & \\g{88} & \\g{95} & \\g{69} & \\g{16} & \\g{12} & \\g{5}\\\\\\g{3} & \\g{5} & \\g{6} & \\g{40} & \\g{34} & \\g{42} & \\g{6} & \\g{4} & \\g{2} & \\g{5}\\\\\\g{4} & \\g{9} & \\g{16} & \\g{14} & \\g{32} & \\g{51} & \\g{13} & \\g{6} & \\g{6} & \\g{2}\\\\\\g{4} & \\g{2} & \\g{5} & \\g{3} & \\g{3} & \\g{3} & \\g{5} & \\g{3} & \\g{3} & \\g{3}\\end{array}\\right)\\]"
      ],
      "text/plain": [
       "<IPython.core.display.Latex object>"
      ]
     },
     "metadata": {},
     "output_type": "display_data"
    },
    {
     "data": {
      "text/latex": [
       "\\[\\scriptstyle \\def\\g{\\color{lightgray}}\\left(\\begin{array}{rrrrrrrrrrrr}\\g{0} & \\g{0} & 0\\cdot -0.25 & 0\\cdot 0.00 & 0\\cdot 0.25 & \\g{0} & \\g{0} & \\g{0} & \\g{0} & \\g{0} & \\g{0} & \\g{0}\\\\\\g{0} & \\g{5} & 2\\cdot -0.50 & 6\\cdot 0.00 & 2\\cdot 0.50 & \\g{3} & \\g{2} & \\g{1} & \\g{2} & \\g{3} & \\g{1} & \\g{0}\\\\\\g{0} & \\g{1} & 3\\cdot -0.25 & 6\\cdot 0.00 & 7\\cdot 0.25 & \\g{9} & \\g{2} & \\g{4} & \\g{4} & \\g{7} & \\g{1} & \\g{0}\\\\\\g{0} & \\g{1} & \\g{5} & \\g{8} & \\g{8} & \\g{10} & \\g{17} & \\g{21} & \\g{19} & \\g{9} & \\g{4} & \\g{0}\\\\\\g{0} & \\g{4} & \\g{18} & \\g{34} & \\g{56} & \\g{17} & \\g{25} & \\g{38} & \\g{17} & \\g{7} & \\g{2} & \\g{0}\\\\\\g{0} & \\g{1} & \\g{14} & \\g{22} & \\g{43} & \\g{68} & \\g{91} & \\g{62} & \\g{23} & \\g{16} & \\g{7} & \\g{0}\\\\\\g{0} & \\g{6} & \\g{12} & \\g{21} & \\g{21} & \\g{39} & \\g{87} & \\g{76} & \\g{34} & \\g{4} & \\g{2} & \\g{0}\\\\\\g{0} & \\g{9} & \\g{24} & \\g{54} & \\g{73} & \\g{88} & \\g{95} & \\g{69} & \\g{16} & \\g{12} & \\g{5} & \\g{0}\\\\\\g{0} & \\g{3} & \\g{5} & \\g{6} & \\g{40} & \\g{34} & \\g{42} & \\g{6} & \\g{4} & \\g{2} & \\g{5} & \\g{0}\\\\\\g{0} & \\g{4} & \\g{9} & \\g{16} & \\g{14} & \\g{32} & \\g{51} & \\g{13} & \\g{6} & \\g{6} & \\g{2} & \\g{0}\\\\\\g{0} & \\g{4} & \\g{2} & \\g{5} & \\g{3} & \\g{3} & \\g{3} & \\g{5} & \\g{3} & \\g{3} & \\g{3} & \\g{0}\\\\\\g{0} & \\g{0} & \\g{0} & \\g{0} & \\g{0} & \\g{0} & \\g{0} & \\g{0} & \\g{0} & \\g{0} & \\g{0} & \\g{0}\\end{array}\\right)=\\left(\\begin{array}{rrrrrrrrrrrr}\\g{1} & \\g{1} & 1 & \\g{2} & \\g{3} & \\g{2} & \\g{1} & \\g{2} & \\g{3} & \\g{1}\\\\\\g{1} & \\g{3} & \\g{6} & \\g{7} & \\g{9} & \\g{2} & \\g{4} & \\g{4} & \\g{7} & \\g{1}\\\\\\g{1} & \\g{5} & \\g{8} & \\g{8} & \\g{10} & \\g{17} & \\g{21} & \\g{19} & \\g{9} & \\g{4}\\\\\\g{4} & \\g{18} & \\g{34} & \\g{56} & \\g{17} & \\g{25} & \\g{38} & \\g{17} & \\g{7} & \\g{2}\\\\\\g{1} & \\g{14} & \\g{22} & \\g{43} & \\g{68} & \\g{91} & \\g{62} & \\g{23} & \\g{16} & \\g{7}\\\\\\g{6} & \\g{12} & \\g{21} & \\g{21} & \\g{39} & \\g{87} & \\g{76} & \\g{34} & \\g{4} & \\g{2}\\\\\\g{9} & \\g{24} & \\g{54} & \\g{73} & \\g{88} & \\g{95} & \\g{69} & \\g{16} & \\g{12} & \\g{5}\\\\\\g{3} & \\g{5} & \\g{6} & \\g{40} & \\g{34} & \\g{42} & \\g{6} & \\g{4} & \\g{2} & \\g{5}\\\\\\g{4} & \\g{9} & \\g{16} & \\g{14} & \\g{32} & \\g{51} & \\g{13} & \\g{6} & \\g{6} & \\g{2}\\\\\\g{4} & \\g{2} & \\g{5} & \\g{3} & \\g{3} & \\g{3} & \\g{5} & \\g{3} & \\g{3} & \\g{3}\\end{array}\\right)\\]"
      ],
      "text/plain": [
       "<IPython.core.display.Latex object>"
      ]
     },
     "metadata": {},
     "output_type": "display_data"
    },
    {
     "data": {
      "text/latex": [
       "\\[\\scriptstyle x =  \\def\\g{\\color{lightgray}}\\left(\\begin{array}{rrrrrrrrrr}1 & 1 & 1 & 0 & -1 & -2 & 0 & 1 & -1 & -3\\\\3 & 4 & 2 & 1 & 0 & 0 & 1 & -1 & -5 & -6\\\\7 & 12 & 12 & -2 & -4 & 9 & 0 & -13 & -12 & -8\\\\13 & 22 & 27 & 3 & -1 & 11 & -20 & -30 & -15 & -9\\\\14 & 21 & 26 & 23 & 32 & 11 & -49 & -48 & -19 & -10\\\\15 & 24 & 24 & 29 & 50 & 12 & -63 & -61 & -22 & -9\\\\16 & 27 & 35 & 28 & 28 & -7 & -62 & -47 & -13 & -7\\\\10 & 15 & 31 & 26 & 15 & -23 & -50 & -18 & -3 & -5\\\\6 & 7 & 11 & 14 & 19 & -16 & -32 & -5 & -1 & -4\\\\3 & 3 & 1 & 3 & 9 & -3 & -11 & -2 & -1 & -3\\end{array}\\right)\\]"
      ],
      "text/plain": [
       "<IPython.core.display.Latex object>"
      ]
     },
     "metadata": {},
     "output_type": "display_data"
    },
    {
     "data": {
      "text/latex": [
       "\\[\\scriptstyle x\\_spread =  \\def\\g{\\color{lightgray}}\\left(\\begin{array}{rrrrrrrrrr}143 & 143 & 143 & 141 & 139 & 137 & 141 & 143 & 139 & 134\\\\148 & 150 & 146 & 143 & 141 & 141 & 143 & 139 & 130 & 128\\\\157 & 168 & 168 & 137 & 132 & 161 & 141 & 112 & 114 & 123\\\\170 & 191 & 202 & 148 & 139 & 166 & 96 & 74 & 107 & 121\\\\173 & 188 & 200 & 193 & 213 & 166 & 31 & 33 & 98 & 119\\\\175 & 195 & 195 & 206 & 254 & 168 & 0 & 4 & 92 & 121\\\\177 & 202 & 220 & 204 & 204 & 125 & 2 & 35 & 112 & 125\\\\164 & 175 & 211 & 200 & 175 & 89 & 29 & 101 & 134 & 130\\\\155 & 157 & 166 & 173 & 184 & 105 & 69 & 130 & 139 & 132\\\\148 & 148 & 143 & 148 & 161 & 134 & 116 & 137 & 139 & 134\\end{array}\\right)\\]"
      ],
      "text/plain": [
       "<IPython.core.display.Latex object>"
      ]
     },
     "metadata": {},
     "output_type": "display_data"
    },
    {
     "data": {
      "image/png": "[encoded data removed]",
      "text/plain": [
       "<matplotlib.figure.Figure at 0x10dc10ba8>"
      ]
     },
     "metadata": {},
     "output_type": "display_data"
    }
   ],
   "source": [
    "S_x = 0.25 * np.array([\n",
    "    [-1, 0, 1],\n",
    "    [-2, 0, 2],\n",
    "    [-1, 0, 1]\n",
    "])\n",
    "\n",
    "x = convolve(base, S_x)\n",
    "x_spread = spread_gray_value(x)\n",
    "\n",
    "stepped_convolution(base, S_x)\n",
    "show_matrix(x, title='x')\n",
    "show_matrix(x_spread, title='x_spread')"
   ]
  },
  {
   "cell_type": "markdown",
   "metadata": {},
   "source": [
    "### Sobel-Operator in y-Richtung"
   ]
  },
  {
   "cell_type": "code",
   "execution_count": 9,
   "metadata": {
    "scrolled": true
   },
   "outputs": [
    {
     "data": {
      "text/latex": [
       "\\[\\scriptstyle \\def\\g{\\color{lightgray}}\\left(\\begin{array}{rrrrrrrrrrrr}0\\cdot 0.25 & 0\\cdot 0.50 & 0\\cdot 0.25 & \\g{0} & \\g{0} & \\g{0} & \\g{0} & \\g{0} & \\g{0} & \\g{0} & \\g{0} & \\g{0}\\\\0\\cdot 0.00 & 5\\cdot 0.00 & 2\\cdot 0.00 & \\g{6} & \\g{2} & \\g{3} & \\g{2} & \\g{1} & \\g{2} & \\g{3} & \\g{1} & \\g{0}\\\\0\\cdot -0.25 & 1\\cdot -0.50 & 3\\cdot -0.25 & \\g{6} & \\g{7} & \\g{9} & \\g{2} & \\g{4} & \\g{4} & \\g{7} & \\g{1} & \\g{0}\\\\\\g{0} & \\g{1} & \\g{5} & \\g{8} & \\g{8} & \\g{10} & \\g{17} & \\g{21} & \\g{19} & \\g{9} & \\g{4} & \\g{0}\\\\\\g{0} & \\g{4} & \\g{18} & \\g{34} & \\g{56} & \\g{17} & \\g{25} & \\g{38} & \\g{17} & \\g{7} & \\g{2} & \\g{0}\\\\\\g{0} & \\g{1} & \\g{14} & \\g{22} & \\g{43} & \\g{68} & \\g{91} & \\g{62} & \\g{23} & \\g{16} & \\g{7} & \\g{0}\\\\\\g{0} & \\g{6} & \\g{12} & \\g{21} & \\g{21} & \\g{39} & \\g{87} & \\g{76} & \\g{34} & \\g{4} & \\g{2} & \\g{0}\\\\\\g{0} & \\g{9} & \\g{24} & \\g{54} & \\g{73} & \\g{88} & \\g{95} & \\g{69} & \\g{16} & \\g{12} & \\g{5} & \\g{0}\\\\\\g{0} & \\g{3} & \\g{5} & \\g{6} & \\g{40} & \\g{34} & \\g{42} & \\g{6} & \\g{4} & \\g{2} & \\g{5} & \\g{0}\\\\\\g{0} & \\g{4} & \\g{9} & \\g{16} & \\g{14} & \\g{32} & \\g{51} & \\g{13} & \\g{6} & \\g{6} & \\g{2} & \\g{0}\\\\\\g{0} & \\g{4} & \\g{2} & \\g{5} & \\g{3} & \\g{3} & \\g{3} & \\g{5} & \\g{3} & \\g{3} & \\g{3} & \\g{0}\\\\\\g{0} & \\g{0} & \\g{0} & \\g{0} & \\g{0} & \\g{0} & \\g{0} & \\g{0} & \\g{0} & \\g{0} & \\g{0} & \\g{0}\\end{array}\\right)=\\left(\\begin{array}{rrrrrrrrrrrr}-1 & \\g{2} & \\g{6} & \\g{2} & \\g{3} & \\g{2} & \\g{1} & \\g{2} & \\g{3} & \\g{1}\\\\\\g{1} & \\g{3} & \\g{6} & \\g{7} & \\g{9} & \\g{2} & \\g{4} & \\g{4} & \\g{7} & \\g{1}\\\\\\g{1} & \\g{5} & \\g{8} & \\g{8} & \\g{10} & \\g{17} & \\g{21} & \\g{19} & \\g{9} & \\g{4}\\\\\\g{4} & \\g{18} & \\g{34} & \\g{56} & \\g{17} & \\g{25} & \\g{38} & \\g{17} & \\g{7} & \\g{2}\\\\\\g{1} & \\g{14} & \\g{22} & \\g{43} & \\g{68} & \\g{91} & \\g{62} & \\g{23} & \\g{16} & \\g{7}\\\\\\g{6} & \\g{12} & \\g{21} & \\g{21} & \\g{39} & \\g{87} & \\g{76} & \\g{34} & \\g{4} & \\g{2}\\\\\\g{9} & \\g{24} & \\g{54} & \\g{73} & \\g{88} & \\g{95} & \\g{69} & \\g{16} & \\g{12} & \\g{5}\\\\\\g{3} & \\g{5} & \\g{6} & \\g{40} & \\g{34} & \\g{42} & \\g{6} & \\g{4} & \\g{2} & \\g{5}\\\\\\g{4} & \\g{9} & \\g{16} & \\g{14} & \\g{32} & \\g{51} & \\g{13} & \\g{6} & \\g{6} & \\g{2}\\\\\\g{4} & \\g{2} & \\g{5} & \\g{3} & \\g{3} & \\g{3} & \\g{5} & \\g{3} & \\g{3} & \\g{3}\\end{array}\\right)\\]"
      ],
      "text/plain": [
       "<IPython.core.display.Latex object>"
      ]
     },
     "metadata": {},
     "output_type": "display_data"
    },
    {
     "data": {
      "text/latex": [
       "\\[\\scriptstyle \\def\\g{\\color{lightgray}}\\left(\\begin{array}{rrrrrrrrrrrr}\\g{0} & 0\\cdot 0.25 & 0\\cdot 0.50 & 0\\cdot 0.25 & \\g{0} & \\g{0} & \\g{0} & \\g{0} & \\g{0} & \\g{0} & \\g{0} & \\g{0}\\\\\\g{0} & 5\\cdot 0.00 & 2\\cdot 0.00 & 6\\cdot 0.00 & \\g{2} & \\g{3} & \\g{2} & \\g{1} & \\g{2} & \\g{3} & \\g{1} & \\g{0}\\\\\\g{0} & 1\\cdot -0.25 & 3\\cdot -0.50 & 6\\cdot -0.25 & \\g{7} & \\g{9} & \\g{2} & \\g{4} & \\g{4} & \\g{7} & \\g{1} & \\g{0}\\\\\\g{0} & \\g{1} & \\g{5} & \\g{8} & \\g{8} & \\g{10} & \\g{17} & \\g{21} & \\g{19} & \\g{9} & \\g{4} & \\g{0}\\\\\\g{0} & \\g{4} & \\g{18} & \\g{34} & \\g{56} & \\g{17} & \\g{25} & \\g{38} & \\g{17} & \\g{7} & \\g{2} & \\g{0}\\\\\\g{0} & \\g{1} & \\g{14} & \\g{22} & \\g{43} & \\g{68} & \\g{91} & \\g{62} & \\g{23} & \\g{16} & \\g{7} & \\g{0}\\\\\\g{0} & \\g{6} & \\g{12} & \\g{21} & \\g{21} & \\g{39} & \\g{87} & \\g{76} & \\g{34} & \\g{4} & \\g{2} & \\g{0}\\\\\\g{0} & \\g{9} & \\g{24} & \\g{54} & \\g{73} & \\g{88} & \\g{95} & \\g{69} & \\g{16} & \\g{12} & \\g{5} & \\g{0}\\\\\\g{0} & \\g{3} & \\g{5} & \\g{6} & \\g{40} & \\g{34} & \\g{42} & \\g{6} & \\g{4} & \\g{2} & \\g{5} & \\g{0}\\\\\\g{0} & \\g{4} & \\g{9} & \\g{16} & \\g{14} & \\g{32} & \\g{51} & \\g{13} & \\g{6} & \\g{6} & \\g{2} & \\g{0}\\\\\\g{0} & \\g{4} & \\g{2} & \\g{5} & \\g{3} & \\g{3} & \\g{3} & \\g{5} & \\g{3} & \\g{3} & \\g{3} & \\g{0}\\\\\\g{0} & \\g{0} & \\g{0} & \\g{0} & \\g{0} & \\g{0} & \\g{0} & \\g{0} & \\g{0} & \\g{0} & \\g{0} & \\g{0}\\end{array}\\right)=\\left(\\begin{array}{rrrrrrrrrrrr}\\g{-1} & -3 & \\g{6} & \\g{2} & \\g{3} & \\g{2} & \\g{1} & \\g{2} & \\g{3} & \\g{1}\\\\\\g{1} & \\g{3} & \\g{6} & \\g{7} & \\g{9} & \\g{2} & \\g{4} & \\g{4} & \\g{7} & \\g{1}\\\\\\g{1} & \\g{5} & \\g{8} & \\g{8} & \\g{10} & \\g{17} & \\g{21} & \\g{19} & \\g{9} & \\g{4}\\\\\\g{4} & \\g{18} & \\g{34} & \\g{56} & \\g{17} & \\g{25} & \\g{38} & \\g{17} & \\g{7} & \\g{2}\\\\\\g{1} & \\g{14} & \\g{22} & \\g{43} & \\g{68} & \\g{91} & \\g{62} & \\g{23} & \\g{16} & \\g{7}\\\\\\g{6} & \\g{12} & \\g{21} & \\g{21} & \\g{39} & \\g{87} & \\g{76} & \\g{34} & \\g{4} & \\g{2}\\\\\\g{9} & \\g{24} & \\g{54} & \\g{73} & \\g{88} & \\g{95} & \\g{69} & \\g{16} & \\g{12} & \\g{5}\\\\\\g{3} & \\g{5} & \\g{6} & \\g{40} & \\g{34} & \\g{42} & \\g{6} & \\g{4} & \\g{2} & \\g{5}\\\\\\g{4} & \\g{9} & \\g{16} & \\g{14} & \\g{32} & \\g{51} & \\g{13} & \\g{6} & \\g{6} & \\g{2}\\\\\\g{4} & \\g{2} & \\g{5} & \\g{3} & \\g{3} & \\g{3} & \\g{5} & \\g{3} & \\g{3} & \\g{3}\\end{array}\\right)\\]"
      ],
      "text/plain": [
       "<IPython.core.display.Latex object>"
      ]
     },
     "metadata": {},
     "output_type": "display_data"
    },
    {
     "data": {
      "text/latex": [
       "\\[\\scriptstyle \\def\\g{\\color{lightgray}}\\left(\\begin{array}{rrrrrrrrrrrr}\\g{0} & \\g{0} & 0\\cdot 0.25 & 0\\cdot 0.50 & 0\\cdot 0.25 & \\g{0} & \\g{0} & \\g{0} & \\g{0} & \\g{0} & \\g{0} & \\g{0}\\\\\\g{0} & \\g{5} & 2\\cdot 0.00 & 6\\cdot 0.00 & 2\\cdot 0.00 & \\g{3} & \\g{2} & \\g{1} & \\g{2} & \\g{3} & \\g{1} & \\g{0}\\\\\\g{0} & \\g{1} & 3\\cdot -0.25 & 6\\cdot -0.50 & 7\\cdot -0.25 & \\g{9} & \\g{2} & \\g{4} & \\g{4} & \\g{7} & \\g{1} & \\g{0}\\\\\\g{0} & \\g{1} & \\g{5} & \\g{8} & \\g{8} & \\g{10} & \\g{17} & \\g{21} & \\g{19} & \\g{9} & \\g{4} & \\g{0}\\\\\\g{0} & \\g{4} & \\g{18} & \\g{34} & \\g{56} & \\g{17} & \\g{25} & \\g{38} & \\g{17} & \\g{7} & \\g{2} & \\g{0}\\\\\\g{0} & \\g{1} & \\g{14} & \\g{22} & \\g{43} & \\g{68} & \\g{91} & \\g{62} & \\g{23} & \\g{16} & \\g{7} & \\g{0}\\\\\\g{0} & \\g{6} & \\g{12} & \\g{21} & \\g{21} & \\g{39} & \\g{87} & \\g{76} & \\g{34} & \\g{4} & \\g{2} & \\g{0}\\\\\\g{0} & \\g{9} & \\g{24} & \\g{54} & \\g{73} & \\g{88} & \\g{95} & \\g{69} & \\g{16} & \\g{12} & \\g{5} & \\g{0}\\\\\\g{0} & \\g{3} & \\g{5} & \\g{6} & \\g{40} & \\g{34} & \\g{42} & \\g{6} & \\g{4} & \\g{2} & \\g{5} & \\g{0}\\\\\\g{0} & \\g{4} & \\g{9} & \\g{16} & \\g{14} & \\g{32} & \\g{51} & \\g{13} & \\g{6} & \\g{6} & \\g{2} & \\g{0}\\\\\\g{0} & \\g{4} & \\g{2} & \\g{5} & \\g{3} & \\g{3} & \\g{3} & \\g{5} & \\g{3} & \\g{3} & \\g{3} & \\g{0}\\\\\\g{0} & \\g{0} & \\g{0} & \\g{0} & \\g{0} & \\g{0} & \\g{0} & \\g{0} & \\g{0} & \\g{0} & \\g{0} & \\g{0}\\end{array}\\right)=\\left(\\begin{array}{rrrrrrrrrrrr}\\g{-1} & \\g{-3} & -5 & \\g{2} & \\g{3} & \\g{2} & \\g{1} & \\g{2} & \\g{3} & \\g{1}\\\\\\g{1} & \\g{3} & \\g{6} & \\g{7} & \\g{9} & \\g{2} & \\g{4} & \\g{4} & \\g{7} & \\g{1}\\\\\\g{1} & \\g{5} & \\g{8} & \\g{8} & \\g{10} & \\g{17} & \\g{21} & \\g{19} & \\g{9} & \\g{4}\\\\\\g{4} & \\g{18} & \\g{34} & \\g{56} & \\g{17} & \\g{25} & \\g{38} & \\g{17} & \\g{7} & \\g{2}\\\\\\g{1} & \\g{14} & \\g{22} & \\g{43} & \\g{68} & \\g{91} & \\g{62} & \\g{23} & \\g{16} & \\g{7}\\\\\\g{6} & \\g{12} & \\g{21} & \\g{21} & \\g{39} & \\g{87} & \\g{76} & \\g{34} & \\g{4} & \\g{2}\\\\\\g{9} & \\g{24} & \\g{54} & \\g{73} & \\g{88} & \\g{95} & \\g{69} & \\g{16} & \\g{12} & \\g{5}\\\\\\g{3} & \\g{5} & \\g{6} & \\g{40} & \\g{34} & \\g{42} & \\g{6} & \\g{4} & \\g{2} & \\g{5}\\\\\\g{4} & \\g{9} & \\g{16} & \\g{14} & \\g{32} & \\g{51} & \\g{13} & \\g{6} & \\g{6} & \\g{2}\\\\\\g{4} & \\g{2} & \\g{5} & \\g{3} & \\g{3} & \\g{3} & \\g{5} & \\g{3} & \\g{3} & \\g{3}\\end{array}\\right)\\]"
      ],
      "text/plain": [
       "<IPython.core.display.Latex object>"
      ]
     },
     "metadata": {},
     "output_type": "display_data"
    },
    {
     "data": {
      "text/latex": [
       "\\[\\scriptstyle y =  \\def\\g{\\color{lightgray}}\\left(\\begin{array}{rrrrrrrrrr}-1 & -3 & -5 & -7 & -6 & -4 & -3 & -4 & -4 & -2\\\\1 & -1 & -3 & -5 & -8 & -14 & -18 & -15 & -8 & -3\\\\-5 & -15 & -30 & -33 & -22 & -22 & -26 & -15 & -3 & 0\\\\-2 & -8 & -18 & -35 & -56 & -61 & -40 & -14 & -5 & -3\\\\0 & 5 & 16 & 15 & -17 & -46 & -38 & -17 & -2 & 0\\\\-6 & -15 & -26 & -28 & -18 & -8 & -2 & 2 & 4 & 2\\\\3 & 8 & 4 & -4 & 9 & 41 & 53 & 33 & 7 & -1\\\\6 & 18 & 37 & 53 & 53 & 50 & 41 & 20 & 6 & 3\\\\0 & 1 & 10 & 26 & 34 & 27 & 10 & 0 & 0 & 0\\\\4 & 9 & 13 & 19 & 32 & 36 & 20 & 7 & 5 & 2\\end{array}\\right)\\]"
      ],
      "text/plain": [
       "<IPython.core.display.Latex object>"
      ]
     },
     "metadata": {},
     "output_type": "display_data"
    },
    {
     "data": {
      "text/latex": [
       "\\[\\scriptstyle y\\_spread =  \\def\\g{\\color{lightgray}}\\left(\\begin{array}{rrrrrrrrrr}133 & 129 & 124 & 120 & 122 & 127 & 129 & 127 & 127 & 131\\\\138 & 133 & 129 & 124 & 118 & 104 & 95 & 102 & 118 & 129\\\\124 & 102 & 69 & 62 & 86 & 86 & 77 & 102 & 129 & 135\\\\131 & 118 & 95 & 57 & 11 & 0 & 46 & 104 & 124 & 129\\\\135 & 147 & 171 & 169 & 98 & 33 & 51 & 98 & 131 & 135\\\\122 & 102 & 77 & 73 & 95 & 118 & 131 & 140 & 144 & 140\\\\142 & 153 & 144 & 127 & 155 & 227 & 254 & 209 & 151 & 133\\\\149 & 176 & 218 & 254 & 254 & 247 & 227 & 180 & 149 & 142\\\\135 & 138 & 158 & 193 & 211 & 196 & 158 & 135 & 135 & 135\\\\144 & 155 & 164 & 178 & 207 & 216 & 180 & 151 & 147 & 140\\end{array}\\right)\\]"
      ],
      "text/plain": [
       "<IPython.core.display.Latex object>"
      ]
     },
     "metadata": {},
     "output_type": "display_data"
    },
    {
     "data": {
      "image/png": "[encoded data removed]",
      "text/plain": [
       "<matplotlib.figure.Figure at 0x10dc8f080>"
      ]
     },
     "metadata": {},
     "output_type": "display_data"
    }
   ],
   "source": [
    "S_y = 0.25 * np.array([\n",
    "    [1, 2, 1],\n",
    "    [0, 0, 0],\n",
    "    [-1, -2, -1]\n",
    "])\n",
    "\n",
    "y = convolve(base, S_y)\n",
    "y_spread = spread_gray_value(y)\n",
    "\n",
    "\n",
    "stepped_convolution(base, S_y)\n",
    "show_matrix(y, title='y')\n",
    "show_matrix(y_spread, title='y_spread')"
   ]
  },
  {
   "cell_type": "markdown",
   "metadata": {},
   "source": [
    "# 3) Berechnung der Kanten (Sobel-Operator-Max)"
   ]
  },
  {
   "cell_type": "code",
   "execution_count": 10,
   "metadata": {
    "scrolled": true
   },
   "outputs": [
    {
     "data": {
      "text/latex": [
       "\\[\\scriptstyle g =  \\def\\g{\\color{lightgray}}\\left(\\begin{array}{rrrrrrrrrr}1 & 1 & 1 & 0 & -1 & -2 & 0 & 1 & -1 & -2\\\\3 & 4 & 2 & 1 & 0 & 0 & 1 & -1 & -5 & -3\\\\7 & 12 & 12 & -2 & -4 & 9 & 0 & -13 & -3 & 0\\\\13 & 22 & 27 & 3 & -1 & 11 & -20 & -14 & -5 & -3\\\\14 & 21 & 26 & 23 & 32 & 11 & -38 & -17 & -2 & 0\\\\15 & 24 & 24 & 29 & 50 & 12 & -2 & 2 & 4 & 2\\\\16 & 27 & 35 & 28 & 28 & 41 & 53 & 33 & 7 & -1\\\\10 & 18 & 37 & 53 & 53 & 50 & 41 & 20 & 6 & 3\\\\6 & 7 & 11 & 26 & 34 & 27 & 10 & 0 & 0 & 0\\\\4 & 9 & 13 & 19 & 32 & 36 & 20 & 7 & 5 & 2\\end{array}\\right)\\]"
      ],
      "text/plain": [
       "<IPython.core.display.Latex object>"
      ]
     },
     "metadata": {},
     "output_type": "display_data"
    },
    {
     "data": {
      "text/latex": [
       "\\[\\scriptstyle g\\_spread =  \\def\\g{\\color{lightgray}}\\left(\\begin{array}{rrrrrrrrrr}108 & 108 & 108 & 106 & 103 & 100 & 106 & 108 & 103 & 100\\\\114 & 117 & 111 & 108 & 106 & 106 & 108 & 103 & 92 & 97\\\\125 & 139 & 139 & 100 & 94 & 131 & 106 & 69 & 97 & 106\\\\142 & 167 & 181 & 114 & 103 & 136 & 50 & 66 & 92 & 97\\\\145 & 164 & 178 & 170 & 195 & 136 & 0 & 58 & 100 & 106\\\\147 & 173 & 173 & 187 & 245 & 139 & 100 & 111 & 117 & 111\\\\150 & 181 & 203 & 184 & 184 & 220 & 254 & 198 & 125 & 103\\\\133 & 156 & 209 & 254 & 254 & 245 & 220 & 161 & 122 & 114\\\\122 & 125 & 136 & 178 & 200 & 181 & 133 & 106 & 106 & 106\\\\117 & 131 & 142 & 159 & 195 & 206 & 161 & 125 & 120 & 111\\end{array}\\right)\\]"
      ],
      "text/plain": [
       "<IPython.core.display.Latex object>"
      ]
     },
     "metadata": {},
     "output_type": "display_data"
    },
    {
     "data": {
      "text/plain": [
       "<matplotlib.image.AxesImage at 0x10ddc37f0>"
      ]
     },
     "execution_count": 10,
     "metadata": {},
     "output_type": "execute_result"
    },
    {
     "data": {
      "image/png": "[encoded data removed]",
      "text/plain": [
       "<matplotlib.figure.Figure at 0x10dcf47f0>"
      ]
     },
     "metadata": {},
     "output_type": "display_data"
    }
   ],
   "source": [
    "g = np.maximum(x, y)\n",
    "g_spread = spread_gray_value(g)\n",
    "\n",
    "show_matrix(g, title='g')\n",
    "show_matrix(g_spread, title='g_spread')\n",
    "show(g_spread)"
   ]
  },
  {
   "cell_type": "markdown",
   "metadata": {},
   "source": [
    "# 4) Darstellungen der einzelnen Schritte"
   ]
  },
  {
   "cell_type": "code",
   "execution_count": 11,
   "metadata": {},
   "outputs": [
    {
     "data": {
      "image/png": "[encoded data removed]",
      "text/plain": [
       "<matplotlib.figure.Figure at 0x10ddd5390>"
      ]
     },
     "metadata": {},
     "output_type": "display_data"
    }
   ],
   "source": [
    "fig = plt.figure(figsize=(13, 9))\n",
    "\n",
    "rows = 2\n",
    "columns = 3\n",
    "\n",
    "in_ = fig.add_subplot(rows, columns, 1)\n",
    "in_.set_title(\"Eingabe\")\n",
    "show(base)\n",
    "\n",
    "in_spread = fig.add_subplot(rows, columns, 2)\n",
    "in_spread.set_title(\"Eingabe nach Grauwertspreizung\")\n",
    "show(base_spread)\n",
    "\n",
    "avg = fig.add_subplot(rows, columns, 3)\n",
    "avg.set_title(\"Mittelwertfilter\")\n",
    "show(base_averaged_spread)\n",
    "\n",
    "x_plt = fig.add_subplot(rows, columns, 4)\n",
    "x_plt.set_title(\"Sobel-Operator in x-Richtung\")\n",
    "show(x_spread)\n",
    "\n",
    "y_plt = fig.add_subplot(rows, columns, 5)\n",
    "y_plt.set_title(\"Sobel-Operator in y-Richtung\")\n",
    "show(y_spread)\n",
    "\n",
    "g_plt = fig.add_subplot(rows, columns, 6)\n",
    "g_plt.set_title(\"Sobel-Operator-Max\")\n",
    "show(g_spread)\n",
    "\n",
    "plt.show()"
   ]
  }
 ],
 "metadata": {
  "kernelspec": {
   "display_name": "Python 3",
   "language": "python",
   "name": "python3"
  },
  "language_info": {
   "codemirror_mode": {
    "name": "ipython",
    "version": 3
   },
   "file_extension": ".py",
   "mimetype": "text/x-python",
   "name": "python",
   "nbconvert_exporter": "python",
   "pygments_lexer": "ipython3",
   "version": "3.6.5"
  }
 },
 "nbformat": 4,
 "nbformat_minor": 2
}
