{
 "cells": [
  {
   "cell_type": "code",
   "execution_count": 17,
   "metadata": {},
   "outputs": [],
   "source": [
    "import numpy as np\n",
    "import matplotlib.pyplot as plt"
   ]
  },
  {
   "cell_type": "code",
   "execution_count": 201,
   "metadata": {},
   "outputs": [],
   "source": [
    "DIMENSIONS = (2,2)\n",
    "PROJECTION_DIMENSION = 2\n",
    "\n",
    "projections = [\n",
    "    np.array([8,3]),\n",
    "    np.array([4,8])\n",
    "] # we omitted the angle here, since we will define which fields are striked by the beams in the following\n",
    "\n",
    "# same ordering as in projections\n",
    "beam_affected_fields = [\n",
    "    [(0,0), (1,0)],\n",
    "    [(0,1), (1,1)],\n",
    "    [(0,0), (0,1)],\n",
    "    [(0,1), (1,1), (1,0)]\n",
    "]\n",
    "\n",
    "BEGIN = 0\n",
    "ITERATE_LTR = True # do we iterate from the left to the right in a projection or else?\n",
    "ENABLE_BEAM_RANKING = True # if true, then optimize beams, that go through less fields first\n",
    "\n",
    "NUM_PROJECTIONS = len(projections)\n",
    "NUM_ITERATIONS = 3"
   ]
  },
  {
   "cell_type": "code",
   "execution_count": null,
   "metadata": {},
   "outputs": [],
   "source": []
  },
  {
   "cell_type": "code",
   "execution_count": 68,
   "metadata": {},
   "outputs": [
    {
     "name": "stdout",
     "output_type": "stream",
     "text": [
      "0 2\n",
      "1 1\n"
     ]
    }
   ],
   "source": [
    "for x,y in zip(range(PROJECTION_DIMENSION), [2,1]):\n",
    "    print(x,y)"
   ]
  },
  {
   "cell_type": "code",
   "execution_count": null,
   "metadata": {},
   "outputs": [],
   "source": []
  },
  {
   "cell_type": "code",
   "execution_count": 136,
   "metadata": {},
   "outputs": [],
   "source": [
    "def starting_image(projection):\n",
    "    image = np.zeros((2,2)) + np.sum(projection)/PROJECTION_DIMENSION**2\n",
    "    return image\n",
    "\n",
    "def next_projection(current):\n",
    "    return (current + 1) % NUM_PROJECTIONS if ITERATE_LTR else (current - 1) % NUM_PROJECTIONS\n",
    "\n",
    "def get_beams_ordered(beams, ITERATE_LTR):\n",
    "    beams = zip(range(PROJECTION_DIMENSION), beams) if ITERATE_LTR else zip(reversed(range(PROJECTION_DIMENSION)), reversed(beams))\n",
    "    return(beams)"
   ]
  },
  {
   "cell_type": "code",
   "execution_count": 137,
   "metadata": {},
   "outputs": [],
   "source": []
  },
  {
   "cell_type": "code",
   "execution_count": 200,
   "metadata": {},
   "outputs": [
    {
     "name": "stdout",
     "output_type": "stream",
     "text": [
      "[[2.75 2.75]\n",
      " [2.75 2.75]]\n",
      "[[2.96 1.03]\n",
      " [5.01 1.96]]\n"
     ]
    }
   ],
   "source": [
    "iteration = 0\n",
    "current_projection = BEGIN\n",
    "start_image = starting_image(projections[BEGIN])\n",
    "image = np.copy(start_image)\n",
    "\n",
    "print(start_image)\n",
    "\n",
    "#VARIANT A: optimize beam by beam\n",
    "while iteration < NUM_ITERATIONS:\n",
    "    proj_count = 0\n",
    "    while proj_count < NUM_PROJECTIONS:\n",
    "        viewed_beams = []\n",
    "        for beam_index, beam in get_beams_ordered(projections[current_projection], ITERATE_LTR):\n",
    "            strikes = beam_affected_fields[PROJECTION_DIMENSION*current_projection + beam_index]\n",
    "            viewed_beams.append((len(strikes), beam, strikes))\n",
    "        if ENABLE_BEAM_RANKING:\n",
    "            viewed_beams = sorted(viewed_beams, key=lambda o : o[0])\n",
    "        for _, beam, strikes in viewed_beams:\n",
    "            #recalculate:\n",
    "            cells = [image[c] for c in strikes]\n",
    "            #print(cells)\n",
    "            new_beam = np.sum(cells)\n",
    "            #optimize:\n",
    "            factor = beam/new_beam # old/new\n",
    "            for c in strikes:\n",
    "                #print(image[c],'*',factor, '=',np.round(image[c]*factor,2))\n",
    "                image[c] = image[c]*factor\n",
    "        proj_count += 1\n",
    "        current_projection = next_projection(current_projection)\n",
    "    iteration += 1\n",
    "print(np.round(image, 2))\n",
    "    "
   ]
  },
  {
   "cell_type": "code",
   "execution_count": null,
   "metadata": {},
   "outputs": [],
   "source": []
  }
 ],
 "metadata": {
  "kernelspec": {
   "display_name": "Python 3",
   "language": "python",
   "name": "python3"
  },
  "language_info": {
   "codemirror_mode": {
    "name": "ipython",
    "version": 3
   },
   "file_extension": ".py",
   "mimetype": "text/x-python",
   "name": "python",
   "nbconvert_exporter": "python",
   "pygments_lexer": "ipython3",
   "version": "3.7.2"
  }
 },
 "nbformat": 4,
 "nbformat_minor": 2
}
